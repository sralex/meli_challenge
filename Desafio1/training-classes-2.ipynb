{
 "cells": [
  {
   "cell_type": "markdown",
   "id": "71d81713-e99d-4791-b67b-f70142bd0c3d",
   "metadata": {},
   "source": [
    "# Introducción\n",
    "La solución propuesta consistió en entrenar un modelo de clasificación basado en BERT para predecir seis etiquetas distintas: 'urgent', 'artificial intelligence', 'computer', 'travel', 'animal' y 'fiction'. Los datos utilizados para entrenar el modelo fueron generados a partir de GPT-2.\n",
    "\n",
    "Para replicar este proceso, no es indispensable volver a ejecutar GPT-2, ya que el archivo gpt2_database_4k.parquet ya contiene la base de datos generada, con 4,000 ejemplos por clase. Si aún se desea generar nuevos datos, se puede ejecutar el notebook generate_data, que emplea GPT-2 para crear la base de datos.\n",
    "\n",
    "Este"
   ]
  },
  {
   "cell_type": "code",
   "execution_count": 1,
   "id": "22600ae4-d3b2-45db-9aba-9f6e1403abda",
   "metadata": {
    "id": "22600ae4-d3b2-45db-9aba-9f6e1403abda"
   },
   "outputs": [],
   "source": [
    "import pandas as pd\n",
    "from datasets import Dataset, ClassLabel\n",
    "from transformers import BertTokenizer\n",
    "from datasets import DatasetDict\n",
    "from transformers import BertTokenizer, BertForSequenceClassification, Trainer, TrainingArguments, TrainerCallback, EarlyStoppingCallback\n",
    "import torch\n",
    "import numpy as np\n",
    "from sklearn.metrics import accuracy_score, precision_score, recall_score, f1_score, confusion_matrix\n",
    "import os\n",
    "os.environ[\"WANDB_MODE\"] = \"disabled\"\n"
   ]
  },
  {
   "cell_type": "code",
   "execution_count": 2,
   "id": "54f43e5b-ffc0-4e85-95b7-717a3ff38850",
   "metadata": {
    "colab": {
     "base_uri": "https://localhost:8080/"
    },
    "id": "54f43e5b-ffc0-4e85-95b7-717a3ff38850",
    "outputId": "6b406b3e-f896-4428-ebee-66ba8ceab4db"
   },
   "outputs": [
    {
     "name": "stdout",
     "output_type": "stream",
     "text": [
      "Using device: cuda\n"
     ]
    }
   ],
   "source": [
    "# Verificar si hay una GPU disponible\n",
    "device = torch.device(\"cuda\" if torch.cuda.is_available() else \"cpu\")\n",
    "print(f\"Using device: {device}\")"
   ]
  },
  {
   "cell_type": "markdown",
   "id": "36c57bfc-0514-4d42-b00d-44a225b5fc63",
   "metadata": {
    "id": "36c57bfc-0514-4d42-b00d-44a225b5fc63"
   },
   "source": [
    "## Carga y preparación de datos"
   ]
  },
  {
   "cell_type": "code",
   "execution_count": 3,
   "id": "8a15e6eb-1b55-4ae2-8a2b-2ef82a8de55b",
   "metadata": {
    "colab": {
     "base_uri": "https://localhost:8080/",
     "height": 424
    },
    "id": "8a15e6eb-1b55-4ae2-8a2b-2ef82a8de55b",
    "outputId": "3766f6b1-031e-4663-c9bb-a8844c54d404"
   },
   "outputs": [
    {
     "data": {
      "application/vnd.google.colaboratory.intrinsic+json": {
       "summary": "{\n  \"name\": \"df\",\n  \"rows\": 24000,\n  \"fields\": [\n    {\n      \"column\": \"text\",\n      \"properties\": {\n        \"dtype\": \"string\",\n        \"num_unique_values\": 23925,\n        \"samples\": [\n          \"If you have to explain yourself in such a way as to convince someone that you are going to be really happy soon, it will be tough work for many in the tech community to deal with\",\n          \"You can write a verb to ask a question or set the variable to return a string.\\n\\nIf you want to write this sentence a way, in your command you may write something like this\",\n          \"This is where you start to see many different ways a programmer can leverage the concept of intelligent machines.\\n\\nAn example of a programming language\\n. In this case, the programming is designed\"\n        ],\n        \"semantic_type\": \"\",\n        \"description\": \"\"\n      }\n    },\n    {\n      \"column\": \"label\",\n      \"properties\": {\n        \"dtype\": \"category\",\n        \"num_unique_values\": 6,\n        \"samples\": [\n          \"urgent\",\n          \"artificial intelligence\",\n          \"fiction\"\n        ],\n        \"semantic_type\": \"\",\n        \"description\": \"\"\n      }\n    }\n  ]\n}",
       "type": "dataframe",
       "variable_name": "df"
      },
      "text/html": [
       "\n",
       "  <div id=\"df-5cc1afd5-4dcf-4624-b4fa-5649fe7d91c3\" class=\"colab-df-container\">\n",
       "    <div>\n",
       "<style scoped>\n",
       "    .dataframe tbody tr th:only-of-type {\n",
       "        vertical-align: middle;\n",
       "    }\n",
       "\n",
       "    .dataframe tbody tr th {\n",
       "        vertical-align: top;\n",
       "    }\n",
       "\n",
       "    .dataframe thead th {\n",
       "        text-align: right;\n",
       "    }\n",
       "</style>\n",
       "<table border=\"1\" class=\"dataframe\">\n",
       "  <thead>\n",
       "    <tr style=\"text-align: right;\">\n",
       "      <th></th>\n",
       "      <th>text</th>\n",
       "      <th>label</th>\n",
       "    </tr>\n",
       "  </thead>\n",
       "  <tbody>\n",
       "    <tr>\n",
       "      <th>0</th>\n",
       "      <td>What are the first two sentences?\\n\\n\"In the m...</td>\n",
       "      <td>urgent</td>\n",
       "    </tr>\n",
       "    <tr>\n",
       "      <th>1</th>\n",
       "      <td>To read it aloud, try to figure out what the r...</td>\n",
       "      <td>urgent</td>\n",
       "    </tr>\n",
       "    <tr>\n",
       "      <th>2</th>\n",
       "      <td>It will do well in class.\\n\\nAnd there are a c...</td>\n",
       "      <td>urgent</td>\n",
       "    </tr>\n",
       "    <tr>\n",
       "      <th>3</th>\n",
       "      <td>Or if you want to send a word, simply type the...</td>\n",
       "      <td>urgent</td>\n",
       "    </tr>\n",
       "    <tr>\n",
       "      <th>4</th>\n",
       "      <td>The last two steps here might be pretty obviou...</td>\n",
       "      <td>urgent</td>\n",
       "    </tr>\n",
       "    <tr>\n",
       "      <th>...</th>\n",
       "      <td>...</td>\n",
       "      <td>...</td>\n",
       "    </tr>\n",
       "    <tr>\n",
       "      <th>23995</th>\n",
       "      <td>A sentence from a novel can either be classifi...</td>\n",
       "      <td>fiction</td>\n",
       "    </tr>\n",
       "    <tr>\n",
       "      <th>23996</th>\n",
       "      <td>A good story to write a story about when you a...</td>\n",
       "      <td>fiction</td>\n",
       "    </tr>\n",
       "    <tr>\n",
       "      <th>23997</th>\n",
       "      <td>A sentence containing either a quotation marks...</td>\n",
       "      <td>fiction</td>\n",
       "    </tr>\n",
       "    <tr>\n",
       "      <th>23998</th>\n",
       "      <td>This means that you need to make sure that the...</td>\n",
       "      <td>fiction</td>\n",
       "    </tr>\n",
       "    <tr>\n",
       "      <th>23999</th>\n",
       "      <td>For example, when someone tells a story about ...</td>\n",
       "      <td>fiction</td>\n",
       "    </tr>\n",
       "  </tbody>\n",
       "</table>\n",
       "<p>24000 rows × 2 columns</p>\n",
       "</div>\n",
       "    <div class=\"colab-df-buttons\">\n",
       "\n",
       "  <div class=\"colab-df-container\">\n",
       "    <button class=\"colab-df-convert\" onclick=\"convertToInteractive('df-5cc1afd5-4dcf-4624-b4fa-5649fe7d91c3')\"\n",
       "            title=\"Convert this dataframe to an interactive table.\"\n",
       "            style=\"display:none;\">\n",
       "\n",
       "  <svg xmlns=\"http://www.w3.org/2000/svg\" height=\"24px\" viewBox=\"0 -960 960 960\">\n",
       "    <path d=\"M120-120v-720h720v720H120Zm60-500h600v-160H180v160Zm220 220h160v-160H400v160Zm0 220h160v-160H400v160ZM180-400h160v-160H180v160Zm440 0h160v-160H620v160ZM180-180h160v-160H180v160Zm440 0h160v-160H620v160Z\"/>\n",
       "  </svg>\n",
       "    </button>\n",
       "\n",
       "  <style>\n",
       "    .colab-df-container {\n",
       "      display:flex;\n",
       "      gap: 12px;\n",
       "    }\n",
       "\n",
       "    .colab-df-convert {\n",
       "      background-color: #E8F0FE;\n",
       "      border: none;\n",
       "      border-radius: 50%;\n",
       "      cursor: pointer;\n",
       "      display: none;\n",
       "      fill: #1967D2;\n",
       "      height: 32px;\n",
       "      padding: 0 0 0 0;\n",
       "      width: 32px;\n",
       "    }\n",
       "\n",
       "    .colab-df-convert:hover {\n",
       "      background-color: #E2EBFA;\n",
       "      box-shadow: 0px 1px 2px rgba(60, 64, 67, 0.3), 0px 1px 3px 1px rgba(60, 64, 67, 0.15);\n",
       "      fill: #174EA6;\n",
       "    }\n",
       "\n",
       "    .colab-df-buttons div {\n",
       "      margin-bottom: 4px;\n",
       "    }\n",
       "\n",
       "    [theme=dark] .colab-df-convert {\n",
       "      background-color: #3B4455;\n",
       "      fill: #D2E3FC;\n",
       "    }\n",
       "\n",
       "    [theme=dark] .colab-df-convert:hover {\n",
       "      background-color: #434B5C;\n",
       "      box-shadow: 0px 1px 3px 1px rgba(0, 0, 0, 0.15);\n",
       "      filter: drop-shadow(0px 1px 2px rgba(0, 0, 0, 0.3));\n",
       "      fill: #FFFFFF;\n",
       "    }\n",
       "  </style>\n",
       "\n",
       "    <script>\n",
       "      const buttonEl =\n",
       "        document.querySelector('#df-5cc1afd5-4dcf-4624-b4fa-5649fe7d91c3 button.colab-df-convert');\n",
       "      buttonEl.style.display =\n",
       "        google.colab.kernel.accessAllowed ? 'block' : 'none';\n",
       "\n",
       "      async function convertToInteractive(key) {\n",
       "        const element = document.querySelector('#df-5cc1afd5-4dcf-4624-b4fa-5649fe7d91c3');\n",
       "        const dataTable =\n",
       "          await google.colab.kernel.invokeFunction('convertToInteractive',\n",
       "                                                    [key], {});\n",
       "        if (!dataTable) return;\n",
       "\n",
       "        const docLinkHtml = 'Like what you see? Visit the ' +\n",
       "          '<a target=\"_blank\" href=https://colab.research.google.com/notebooks/data_table.ipynb>data table notebook</a>'\n",
       "          + ' to learn more about interactive tables.';\n",
       "        element.innerHTML = '';\n",
       "        dataTable['output_type'] = 'display_data';\n",
       "        await google.colab.output.renderOutput(dataTable, element);\n",
       "        const docLink = document.createElement('div');\n",
       "        docLink.innerHTML = docLinkHtml;\n",
       "        element.appendChild(docLink);\n",
       "      }\n",
       "    </script>\n",
       "  </div>\n",
       "\n",
       "\n",
       "<div id=\"df-f8c85259-8675-42b3-b157-e994fcb247ff\">\n",
       "  <button class=\"colab-df-quickchart\" onclick=\"quickchart('df-f8c85259-8675-42b3-b157-e994fcb247ff')\"\n",
       "            title=\"Suggest charts\"\n",
       "            style=\"display:none;\">\n",
       "\n",
       "<svg xmlns=\"http://www.w3.org/2000/svg\" height=\"24px\"viewBox=\"0 0 24 24\"\n",
       "     width=\"24px\">\n",
       "    <g>\n",
       "        <path d=\"M19 3H5c-1.1 0-2 .9-2 2v14c0 1.1.9 2 2 2h14c1.1 0 2-.9 2-2V5c0-1.1-.9-2-2-2zM9 17H7v-7h2v7zm4 0h-2V7h2v10zm4 0h-2v-4h2v4z\"/>\n",
       "    </g>\n",
       "</svg>\n",
       "  </button>\n",
       "\n",
       "<style>\n",
       "  .colab-df-quickchart {\n",
       "      --bg-color: #E8F0FE;\n",
       "      --fill-color: #1967D2;\n",
       "      --hover-bg-color: #E2EBFA;\n",
       "      --hover-fill-color: #174EA6;\n",
       "      --disabled-fill-color: #AAA;\n",
       "      --disabled-bg-color: #DDD;\n",
       "  }\n",
       "\n",
       "  [theme=dark] .colab-df-quickchart {\n",
       "      --bg-color: #3B4455;\n",
       "      --fill-color: #D2E3FC;\n",
       "      --hover-bg-color: #434B5C;\n",
       "      --hover-fill-color: #FFFFFF;\n",
       "      --disabled-bg-color: #3B4455;\n",
       "      --disabled-fill-color: #666;\n",
       "  }\n",
       "\n",
       "  .colab-df-quickchart {\n",
       "    background-color: var(--bg-color);\n",
       "    border: none;\n",
       "    border-radius: 50%;\n",
       "    cursor: pointer;\n",
       "    display: none;\n",
       "    fill: var(--fill-color);\n",
       "    height: 32px;\n",
       "    padding: 0;\n",
       "    width: 32px;\n",
       "  }\n",
       "\n",
       "  .colab-df-quickchart:hover {\n",
       "    background-color: var(--hover-bg-color);\n",
       "    box-shadow: 0 1px 2px rgba(60, 64, 67, 0.3), 0 1px 3px 1px rgba(60, 64, 67, 0.15);\n",
       "    fill: var(--button-hover-fill-color);\n",
       "  }\n",
       "\n",
       "  .colab-df-quickchart-complete:disabled,\n",
       "  .colab-df-quickchart-complete:disabled:hover {\n",
       "    background-color: var(--disabled-bg-color);\n",
       "    fill: var(--disabled-fill-color);\n",
       "    box-shadow: none;\n",
       "  }\n",
       "\n",
       "  .colab-df-spinner {\n",
       "    border: 2px solid var(--fill-color);\n",
       "    border-color: transparent;\n",
       "    border-bottom-color: var(--fill-color);\n",
       "    animation:\n",
       "      spin 1s steps(1) infinite;\n",
       "  }\n",
       "\n",
       "  @keyframes spin {\n",
       "    0% {\n",
       "      border-color: transparent;\n",
       "      border-bottom-color: var(--fill-color);\n",
       "      border-left-color: var(--fill-color);\n",
       "    }\n",
       "    20% {\n",
       "      border-color: transparent;\n",
       "      border-left-color: var(--fill-color);\n",
       "      border-top-color: var(--fill-color);\n",
       "    }\n",
       "    30% {\n",
       "      border-color: transparent;\n",
       "      border-left-color: var(--fill-color);\n",
       "      border-top-color: var(--fill-color);\n",
       "      border-right-color: var(--fill-color);\n",
       "    }\n",
       "    40% {\n",
       "      border-color: transparent;\n",
       "      border-right-color: var(--fill-color);\n",
       "      border-top-color: var(--fill-color);\n",
       "    }\n",
       "    60% {\n",
       "      border-color: transparent;\n",
       "      border-right-color: var(--fill-color);\n",
       "    }\n",
       "    80% {\n",
       "      border-color: transparent;\n",
       "      border-right-color: var(--fill-color);\n",
       "      border-bottom-color: var(--fill-color);\n",
       "    }\n",
       "    90% {\n",
       "      border-color: transparent;\n",
       "      border-bottom-color: var(--fill-color);\n",
       "    }\n",
       "  }\n",
       "</style>\n",
       "\n",
       "  <script>\n",
       "    async function quickchart(key) {\n",
       "      const quickchartButtonEl =\n",
       "        document.querySelector('#' + key + ' button');\n",
       "      quickchartButtonEl.disabled = true;  // To prevent multiple clicks.\n",
       "      quickchartButtonEl.classList.add('colab-df-spinner');\n",
       "      try {\n",
       "        const charts = await google.colab.kernel.invokeFunction(\n",
       "            'suggestCharts', [key], {});\n",
       "      } catch (error) {\n",
       "        console.error('Error during call to suggestCharts:', error);\n",
       "      }\n",
       "      quickchartButtonEl.classList.remove('colab-df-spinner');\n",
       "      quickchartButtonEl.classList.add('colab-df-quickchart-complete');\n",
       "    }\n",
       "    (() => {\n",
       "      let quickchartButtonEl =\n",
       "        document.querySelector('#df-f8c85259-8675-42b3-b157-e994fcb247ff button');\n",
       "      quickchartButtonEl.style.display =\n",
       "        google.colab.kernel.accessAllowed ? 'block' : 'none';\n",
       "    })();\n",
       "  </script>\n",
       "</div>\n",
       "\n",
       "  <div id=\"id_7483152c-1d57-4006-bb16-6d307a06f983\">\n",
       "    <style>\n",
       "      .colab-df-generate {\n",
       "        background-color: #E8F0FE;\n",
       "        border: none;\n",
       "        border-radius: 50%;\n",
       "        cursor: pointer;\n",
       "        display: none;\n",
       "        fill: #1967D2;\n",
       "        height: 32px;\n",
       "        padding: 0 0 0 0;\n",
       "        width: 32px;\n",
       "      }\n",
       "\n",
       "      .colab-df-generate:hover {\n",
       "        background-color: #E2EBFA;\n",
       "        box-shadow: 0px 1px 2px rgba(60, 64, 67, 0.3), 0px 1px 3px 1px rgba(60, 64, 67, 0.15);\n",
       "        fill: #174EA6;\n",
       "      }\n",
       "\n",
       "      [theme=dark] .colab-df-generate {\n",
       "        background-color: #3B4455;\n",
       "        fill: #D2E3FC;\n",
       "      }\n",
       "\n",
       "      [theme=dark] .colab-df-generate:hover {\n",
       "        background-color: #434B5C;\n",
       "        box-shadow: 0px 1px 3px 1px rgba(0, 0, 0, 0.15);\n",
       "        filter: drop-shadow(0px 1px 2px rgba(0, 0, 0, 0.3));\n",
       "        fill: #FFFFFF;\n",
       "      }\n",
       "    </style>\n",
       "    <button class=\"colab-df-generate\" onclick=\"generateWithVariable('df')\"\n",
       "            title=\"Generate code using this dataframe.\"\n",
       "            style=\"display:none;\">\n",
       "\n",
       "  <svg xmlns=\"http://www.w3.org/2000/svg\" height=\"24px\"viewBox=\"0 0 24 24\"\n",
       "       width=\"24px\">\n",
       "    <path d=\"M7,19H8.4L18.45,9,17,7.55,7,17.6ZM5,21V16.75L18.45,3.32a2,2,0,0,1,2.83,0l1.4,1.43a1.91,1.91,0,0,1,.58,1.4,1.91,1.91,0,0,1-.58,1.4L9.25,21ZM18.45,9,17,7.55Zm-12,3A5.31,5.31,0,0,0,4.9,8.1,5.31,5.31,0,0,0,1,6.5,5.31,5.31,0,0,0,4.9,4.9,5.31,5.31,0,0,0,6.5,1,5.31,5.31,0,0,0,8.1,4.9,5.31,5.31,0,0,0,12,6.5,5.46,5.46,0,0,0,6.5,12Z\"/>\n",
       "  </svg>\n",
       "    </button>\n",
       "    <script>\n",
       "      (() => {\n",
       "      const buttonEl =\n",
       "        document.querySelector('#id_7483152c-1d57-4006-bb16-6d307a06f983 button.colab-df-generate');\n",
       "      buttonEl.style.display =\n",
       "        google.colab.kernel.accessAllowed ? 'block' : 'none';\n",
       "\n",
       "      buttonEl.onclick = () => {\n",
       "        google.colab.notebook.generateWithVariable('df');\n",
       "      }\n",
       "      })();\n",
       "    </script>\n",
       "  </div>\n",
       "\n",
       "    </div>\n",
       "  </div>\n"
      ],
      "text/plain": [
       "                                                    text    label\n",
       "0      What are the first two sentences?\\n\\n\"In the m...   urgent\n",
       "1      To read it aloud, try to figure out what the r...   urgent\n",
       "2      It will do well in class.\\n\\nAnd there are a c...   urgent\n",
       "3      Or if you want to send a word, simply type the...   urgent\n",
       "4      The last two steps here might be pretty obviou...   urgent\n",
       "...                                                  ...      ...\n",
       "23995  A sentence from a novel can either be classifi...  fiction\n",
       "23996  A good story to write a story about when you a...  fiction\n",
       "23997  A sentence containing either a quotation marks...  fiction\n",
       "23998  This means that you need to make sure that the...  fiction\n",
       "23999  For example, when someone tells a story about ...  fiction\n",
       "\n",
       "[24000 rows x 2 columns]"
      ]
     },
     "execution_count": 3,
     "metadata": {},
     "output_type": "execute_result"
    }
   ],
   "source": [
    "# Cargar el archivo Parquet generado previamente\n",
    "df = pd.read_parquet(\"gpt2_database_4k.parquet\")\n",
    "df"
   ]
  },
  {
   "cell_type": "code",
   "execution_count": 4,
   "id": "0f497230-9aea-45aa-b0c5-0f1f7d35fa2e",
   "metadata": {
    "colab": {
     "base_uri": "https://localhost:8080/",
     "height": 304
    },
    "id": "0f497230-9aea-45aa-b0c5-0f1f7d35fa2e",
    "outputId": "8c0e0823-ce89-41e1-9c41-2e3e8814f20b"
   },
   "outputs": [
    {
     "data": {
      "text/html": [
       "<div>\n",
       "<style scoped>\n",
       "    .dataframe tbody tr th:only-of-type {\n",
       "        vertical-align: middle;\n",
       "    }\n",
       "\n",
       "    .dataframe tbody tr th {\n",
       "        vertical-align: top;\n",
       "    }\n",
       "\n",
       "    .dataframe thead th {\n",
       "        text-align: right;\n",
       "    }\n",
       "</style>\n",
       "<table border=\"1\" class=\"dataframe\">\n",
       "  <thead>\n",
       "    <tr style=\"text-align: right;\">\n",
       "      <th></th>\n",
       "      <th>count</th>\n",
       "    </tr>\n",
       "    <tr>\n",
       "      <th>label</th>\n",
       "      <th></th>\n",
       "    </tr>\n",
       "  </thead>\n",
       "  <tbody>\n",
       "    <tr>\n",
       "      <th>urgent</th>\n",
       "      <td>4000</td>\n",
       "    </tr>\n",
       "    <tr>\n",
       "      <th>artificial intelligence</th>\n",
       "      <td>4000</td>\n",
       "    </tr>\n",
       "    <tr>\n",
       "      <th>computer</th>\n",
       "      <td>4000</td>\n",
       "    </tr>\n",
       "    <tr>\n",
       "      <th>travel</th>\n",
       "      <td>4000</td>\n",
       "    </tr>\n",
       "    <tr>\n",
       "      <th>animal</th>\n",
       "      <td>4000</td>\n",
       "    </tr>\n",
       "    <tr>\n",
       "      <th>fiction</th>\n",
       "      <td>4000</td>\n",
       "    </tr>\n",
       "  </tbody>\n",
       "</table>\n",
       "</div><br><label><b>dtype:</b> int64</label>"
      ],
      "text/plain": [
       "label\n",
       "urgent                     4000\n",
       "artificial intelligence    4000\n",
       "computer                   4000\n",
       "travel                     4000\n",
       "animal                     4000\n",
       "fiction                    4000\n",
       "Name: count, dtype: int64"
      ]
     },
     "execution_count": 4,
     "metadata": {},
     "output_type": "execute_result"
    }
   ],
   "source": [
    "# Verificamos cantidad de labels\n",
    "df[\"label\"].value_counts()"
   ]
  },
  {
   "cell_type": "code",
   "execution_count": 5,
   "id": "c4ca4780-38a4-4570-841b-cd4571b4b99f",
   "metadata": {
    "colab": {
     "base_uri": "https://localhost:8080/"
    },
    "id": "c4ca4780-38a4-4570-841b-cd4571b4b99f",
    "outputId": "92221323-8413-484f-a325-176c50008c75"
   },
   "outputs": [
    {
     "name": "stdout",
     "output_type": "stream",
     "text": [
      "{'urgent': 0, 'artificial intelligence': 1, 'computer': 2, 'travel': 3, 'animal': 4, 'fiction': 5}\n"
     ]
    }
   ],
   "source": [
    "# mapeando categorias a números\n",
    "categories = ['urgent', 'artificial intelligence', 'computer', 'travel', 'animal', 'fiction']\n",
    "label_mapping = { k: i for i,k in enumerate(categories)}\n",
    "print(label_mapping)"
   ]
  },
  {
   "cell_type": "code",
   "execution_count": 6,
   "id": "416906b8-7635-4871-ba24-e9db081c8fd3",
   "metadata": {
    "colab": {
     "base_uri": "https://localhost:8080/"
    },
    "id": "416906b8-7635-4871-ba24-e9db081c8fd3",
    "outputId": "3a16cc66-0ada-408d-81f5-86074b85a50b"
   },
   "outputs": [
    {
     "name": "stderr",
     "output_type": "stream",
     "text": [
      "<ipython-input-6-11f1be4a97bb>:5: DeprecationWarning: DataFrameGroupBy.apply operated on the grouping columns. This behavior is deprecated, and in a future version of pandas the grouping columns will be excluded from the operation. Either pass `include_groups=False` to exclude the groupings or explicitly select the grouping columns after groupby to silence this warning.\n",
      "  df_filtered = df.groupby('label', group_keys=False).apply(\n"
     ]
    }
   ],
   "source": [
    "# Submuestrear (undersample) para cada categoría, limitando a un máximo de n registros por categoría\n",
    "max_records = 4000\n",
    "\n",
    "# Realizamos el submuestreo por categoría utilizando groupby y apply\n",
    "df_filtered = df.groupby('label', group_keys=False).apply(\n",
    "    lambda x: x.sample(n=min(max_records, len(x)), random_state=42)  # Aquí se asegura la reproducibilidad\n",
    ").reset_index(drop=True)"
   ]
  },
  {
   "cell_type": "code",
   "execution_count": 7,
   "id": "dccd1359-aded-498b-a151-c1c88740ebcf",
   "metadata": {
    "colab": {
     "base_uri": "https://localhost:8080/",
     "height": 304
    },
    "id": "dccd1359-aded-498b-a151-c1c88740ebcf",
    "outputId": "0aeeff4a-c3da-4f01-c8ec-e3a6dfdeffdb"
   },
   "outputs": [
    {
     "data": {
      "text/html": [
       "<div>\n",
       "<style scoped>\n",
       "    .dataframe tbody tr th:only-of-type {\n",
       "        vertical-align: middle;\n",
       "    }\n",
       "\n",
       "    .dataframe tbody tr th {\n",
       "        vertical-align: top;\n",
       "    }\n",
       "\n",
       "    .dataframe thead th {\n",
       "        text-align: right;\n",
       "    }\n",
       "</style>\n",
       "<table border=\"1\" class=\"dataframe\">\n",
       "  <thead>\n",
       "    <tr style=\"text-align: right;\">\n",
       "      <th></th>\n",
       "      <th>count</th>\n",
       "    </tr>\n",
       "    <tr>\n",
       "      <th>label</th>\n",
       "      <th></th>\n",
       "    </tr>\n",
       "  </thead>\n",
       "  <tbody>\n",
       "    <tr>\n",
       "      <th>animal</th>\n",
       "      <td>4000</td>\n",
       "    </tr>\n",
       "    <tr>\n",
       "      <th>artificial intelligence</th>\n",
       "      <td>4000</td>\n",
       "    </tr>\n",
       "    <tr>\n",
       "      <th>computer</th>\n",
       "      <td>4000</td>\n",
       "    </tr>\n",
       "    <tr>\n",
       "      <th>fiction</th>\n",
       "      <td>4000</td>\n",
       "    </tr>\n",
       "    <tr>\n",
       "      <th>travel</th>\n",
       "      <td>4000</td>\n",
       "    </tr>\n",
       "    <tr>\n",
       "      <th>urgent</th>\n",
       "      <td>4000</td>\n",
       "    </tr>\n",
       "  </tbody>\n",
       "</table>\n",
       "</div><br><label><b>dtype:</b> int64</label>"
      ],
      "text/plain": [
       "label\n",
       "animal                     4000\n",
       "artificial intelligence    4000\n",
       "computer                   4000\n",
       "fiction                    4000\n",
       "travel                     4000\n",
       "urgent                     4000\n",
       "Name: count, dtype: int64"
      ]
     },
     "execution_count": 7,
     "metadata": {},
     "output_type": "execute_result"
    }
   ],
   "source": [
    "# Verificamos cantidad de labels en caso de muestreo\n",
    "df_filtered[\"label\"].value_counts()"
   ]
  },
  {
   "cell_type": "code",
   "execution_count": 8,
   "id": "ab18a55c-17c2-4d75-a747-0a6d09ef071e",
   "metadata": {
    "colab": {
     "base_uri": "https://localhost:8080/",
     "height": 424
    },
    "id": "ab18a55c-17c2-4d75-a747-0a6d09ef071e",
    "outputId": "e1005bca-283f-400e-bbc6-54de82f5f9a2"
   },
   "outputs": [
    {
     "data": {
      "application/vnd.google.colaboratory.intrinsic+json": {
       "summary": "{\n  \"name\": \"display(df_filtered[['text', 'labels']])\",\n  \"rows\": 24000,\n  \"fields\": [\n    {\n      \"column\": \"text\",\n      \"properties\": {\n        \"dtype\": \"string\",\n        \"num_unique_values\": 23925,\n        \"samples\": [\n          \"This is quite an easy task. We have a paragraph (which I'll write at about 50 sentences in):\\n. . . my first question is. Is there any way to prevent\",\n          \"To illustrate the concept, we will use our grammar. Suppose you want to talk to someone a few times. The speaker is asking you to ask them for permission to make a trip.\",\n          \"This will run the program at most once, and not loop for any number of iterations. I've written it because I can make it simple and use it as an example of a program\"\n        ],\n        \"semantic_type\": \"\",\n        \"description\": \"\"\n      }\n    },\n    {\n      \"column\": \"labels\",\n      \"properties\": {\n        \"dtype\": \"number\",\n        \"std\": 1,\n        \"min\": 0,\n        \"max\": 5,\n        \"num_unique_values\": 6,\n        \"samples\": [\n          4,\n          1,\n          0\n        ],\n        \"semantic_type\": \"\",\n        \"description\": \"\"\n      }\n    }\n  ]\n}",
       "type": "dataframe"
      },
      "text/html": [
       "\n",
       "  <div id=\"df-c28ed66b-c1a1-42f7-8e2d-3311669cbf6e\" class=\"colab-df-container\">\n",
       "    <div>\n",
       "<style scoped>\n",
       "    .dataframe tbody tr th:only-of-type {\n",
       "        vertical-align: middle;\n",
       "    }\n",
       "\n",
       "    .dataframe tbody tr th {\n",
       "        vertical-align: top;\n",
       "    }\n",
       "\n",
       "    .dataframe thead th {\n",
       "        text-align: right;\n",
       "    }\n",
       "</style>\n",
       "<table border=\"1\" class=\"dataframe\">\n",
       "  <thead>\n",
       "    <tr style=\"text-align: right;\">\n",
       "      <th></th>\n",
       "      <th>text</th>\n",
       "      <th>labels</th>\n",
       "    </tr>\n",
       "  </thead>\n",
       "  <tbody>\n",
       "    <tr>\n",
       "      <th>0</th>\n",
       "      <td>In the end, you'll be able to find a lot of in...</td>\n",
       "      <td>4</td>\n",
       "    </tr>\n",
       "    <tr>\n",
       "      <th>1</th>\n",
       "      <td>You can now specify the number of animals you ...</td>\n",
       "      <td>4</td>\n",
       "    </tr>\n",
       "    <tr>\n",
       "      <th>2</th>\n",
       "      <td>Take a word that could mean something like \"I ...</td>\n",
       "      <td>4</td>\n",
       "    </tr>\n",
       "    <tr>\n",
       "      <th>3</th>\n",
       "      <td>For example, I like using this to mean 'animal...</td>\n",
       "      <td>4</td>\n",
       "    </tr>\n",
       "    <tr>\n",
       "      <th>4</th>\n",
       "      <td>The term is useful in cases where you have thr...</td>\n",
       "      <td>4</td>\n",
       "    </tr>\n",
       "    <tr>\n",
       "      <th>...</th>\n",
       "      <td>...</td>\n",
       "      <td>...</td>\n",
       "    </tr>\n",
       "    <tr>\n",
       "      <th>23995</th>\n",
       "      <td>\"I've been in trouble with authorities for the...</td>\n",
       "      <td>0</td>\n",
       "    </tr>\n",
       "    <tr>\n",
       "      <th>23996</th>\n",
       "      <td>Write a story with that sort of thoughtfulness...</td>\n",
       "      <td>0</td>\n",
       "    </tr>\n",
       "    <tr>\n",
       "      <th>23997</th>\n",
       "      <td>Do I need to get a response? No, thank you. I ...</td>\n",
       "      <td>0</td>\n",
       "    </tr>\n",
       "    <tr>\n",
       "      <th>23998</th>\n",
       "      <td>But I know you will look for it. Because we bo...</td>\n",
       "      <td>0</td>\n",
       "    </tr>\n",
       "    <tr>\n",
       "      <th>23999</th>\n",
       "      <td>Try to answer the question that says \"Do you k...</td>\n",
       "      <td>0</td>\n",
       "    </tr>\n",
       "  </tbody>\n",
       "</table>\n",
       "<p>24000 rows × 2 columns</p>\n",
       "</div>\n",
       "    <div class=\"colab-df-buttons\">\n",
       "\n",
       "  <div class=\"colab-df-container\">\n",
       "    <button class=\"colab-df-convert\" onclick=\"convertToInteractive('df-c28ed66b-c1a1-42f7-8e2d-3311669cbf6e')\"\n",
       "            title=\"Convert this dataframe to an interactive table.\"\n",
       "            style=\"display:none;\">\n",
       "\n",
       "  <svg xmlns=\"http://www.w3.org/2000/svg\" height=\"24px\" viewBox=\"0 -960 960 960\">\n",
       "    <path d=\"M120-120v-720h720v720H120Zm60-500h600v-160H180v160Zm220 220h160v-160H400v160Zm0 220h160v-160H400v160ZM180-400h160v-160H180v160Zm440 0h160v-160H620v160ZM180-180h160v-160H180v160Zm440 0h160v-160H620v160Z\"/>\n",
       "  </svg>\n",
       "    </button>\n",
       "\n",
       "  <style>\n",
       "    .colab-df-container {\n",
       "      display:flex;\n",
       "      gap: 12px;\n",
       "    }\n",
       "\n",
       "    .colab-df-convert {\n",
       "      background-color: #E8F0FE;\n",
       "      border: none;\n",
       "      border-radius: 50%;\n",
       "      cursor: pointer;\n",
       "      display: none;\n",
       "      fill: #1967D2;\n",
       "      height: 32px;\n",
       "      padding: 0 0 0 0;\n",
       "      width: 32px;\n",
       "    }\n",
       "\n",
       "    .colab-df-convert:hover {\n",
       "      background-color: #E2EBFA;\n",
       "      box-shadow: 0px 1px 2px rgba(60, 64, 67, 0.3), 0px 1px 3px 1px rgba(60, 64, 67, 0.15);\n",
       "      fill: #174EA6;\n",
       "    }\n",
       "\n",
       "    .colab-df-buttons div {\n",
       "      margin-bottom: 4px;\n",
       "    }\n",
       "\n",
       "    [theme=dark] .colab-df-convert {\n",
       "      background-color: #3B4455;\n",
       "      fill: #D2E3FC;\n",
       "    }\n",
       "\n",
       "    [theme=dark] .colab-df-convert:hover {\n",
       "      background-color: #434B5C;\n",
       "      box-shadow: 0px 1px 3px 1px rgba(0, 0, 0, 0.15);\n",
       "      filter: drop-shadow(0px 1px 2px rgba(0, 0, 0, 0.3));\n",
       "      fill: #FFFFFF;\n",
       "    }\n",
       "  </style>\n",
       "\n",
       "    <script>\n",
       "      const buttonEl =\n",
       "        document.querySelector('#df-c28ed66b-c1a1-42f7-8e2d-3311669cbf6e button.colab-df-convert');\n",
       "      buttonEl.style.display =\n",
       "        google.colab.kernel.accessAllowed ? 'block' : 'none';\n",
       "\n",
       "      async function convertToInteractive(key) {\n",
       "        const element = document.querySelector('#df-c28ed66b-c1a1-42f7-8e2d-3311669cbf6e');\n",
       "        const dataTable =\n",
       "          await google.colab.kernel.invokeFunction('convertToInteractive',\n",
       "                                                    [key], {});\n",
       "        if (!dataTable) return;\n",
       "\n",
       "        const docLinkHtml = 'Like what you see? Visit the ' +\n",
       "          '<a target=\"_blank\" href=https://colab.research.google.com/notebooks/data_table.ipynb>data table notebook</a>'\n",
       "          + ' to learn more about interactive tables.';\n",
       "        element.innerHTML = '';\n",
       "        dataTable['output_type'] = 'display_data';\n",
       "        await google.colab.output.renderOutput(dataTable, element);\n",
       "        const docLink = document.createElement('div');\n",
       "        docLink.innerHTML = docLinkHtml;\n",
       "        element.appendChild(docLink);\n",
       "      }\n",
       "    </script>\n",
       "  </div>\n",
       "\n",
       "\n",
       "<div id=\"df-c84de66f-b46c-486b-9f8a-353238ba2f72\">\n",
       "  <button class=\"colab-df-quickchart\" onclick=\"quickchart('df-c84de66f-b46c-486b-9f8a-353238ba2f72')\"\n",
       "            title=\"Suggest charts\"\n",
       "            style=\"display:none;\">\n",
       "\n",
       "<svg xmlns=\"http://www.w3.org/2000/svg\" height=\"24px\"viewBox=\"0 0 24 24\"\n",
       "     width=\"24px\">\n",
       "    <g>\n",
       "        <path d=\"M19 3H5c-1.1 0-2 .9-2 2v14c0 1.1.9 2 2 2h14c1.1 0 2-.9 2-2V5c0-1.1-.9-2-2-2zM9 17H7v-7h2v7zm4 0h-2V7h2v10zm4 0h-2v-4h2v4z\"/>\n",
       "    </g>\n",
       "</svg>\n",
       "  </button>\n",
       "\n",
       "<style>\n",
       "  .colab-df-quickchart {\n",
       "      --bg-color: #E8F0FE;\n",
       "      --fill-color: #1967D2;\n",
       "      --hover-bg-color: #E2EBFA;\n",
       "      --hover-fill-color: #174EA6;\n",
       "      --disabled-fill-color: #AAA;\n",
       "      --disabled-bg-color: #DDD;\n",
       "  }\n",
       "\n",
       "  [theme=dark] .colab-df-quickchart {\n",
       "      --bg-color: #3B4455;\n",
       "      --fill-color: #D2E3FC;\n",
       "      --hover-bg-color: #434B5C;\n",
       "      --hover-fill-color: #FFFFFF;\n",
       "      --disabled-bg-color: #3B4455;\n",
       "      --disabled-fill-color: #666;\n",
       "  }\n",
       "\n",
       "  .colab-df-quickchart {\n",
       "    background-color: var(--bg-color);\n",
       "    border: none;\n",
       "    border-radius: 50%;\n",
       "    cursor: pointer;\n",
       "    display: none;\n",
       "    fill: var(--fill-color);\n",
       "    height: 32px;\n",
       "    padding: 0;\n",
       "    width: 32px;\n",
       "  }\n",
       "\n",
       "  .colab-df-quickchart:hover {\n",
       "    background-color: var(--hover-bg-color);\n",
       "    box-shadow: 0 1px 2px rgba(60, 64, 67, 0.3), 0 1px 3px 1px rgba(60, 64, 67, 0.15);\n",
       "    fill: var(--button-hover-fill-color);\n",
       "  }\n",
       "\n",
       "  .colab-df-quickchart-complete:disabled,\n",
       "  .colab-df-quickchart-complete:disabled:hover {\n",
       "    background-color: var(--disabled-bg-color);\n",
       "    fill: var(--disabled-fill-color);\n",
       "    box-shadow: none;\n",
       "  }\n",
       "\n",
       "  .colab-df-spinner {\n",
       "    border: 2px solid var(--fill-color);\n",
       "    border-color: transparent;\n",
       "    border-bottom-color: var(--fill-color);\n",
       "    animation:\n",
       "      spin 1s steps(1) infinite;\n",
       "  }\n",
       "\n",
       "  @keyframes spin {\n",
       "    0% {\n",
       "      border-color: transparent;\n",
       "      border-bottom-color: var(--fill-color);\n",
       "      border-left-color: var(--fill-color);\n",
       "    }\n",
       "    20% {\n",
       "      border-color: transparent;\n",
       "      border-left-color: var(--fill-color);\n",
       "      border-top-color: var(--fill-color);\n",
       "    }\n",
       "    30% {\n",
       "      border-color: transparent;\n",
       "      border-left-color: var(--fill-color);\n",
       "      border-top-color: var(--fill-color);\n",
       "      border-right-color: var(--fill-color);\n",
       "    }\n",
       "    40% {\n",
       "      border-color: transparent;\n",
       "      border-right-color: var(--fill-color);\n",
       "      border-top-color: var(--fill-color);\n",
       "    }\n",
       "    60% {\n",
       "      border-color: transparent;\n",
       "      border-right-color: var(--fill-color);\n",
       "    }\n",
       "    80% {\n",
       "      border-color: transparent;\n",
       "      border-right-color: var(--fill-color);\n",
       "      border-bottom-color: var(--fill-color);\n",
       "    }\n",
       "    90% {\n",
       "      border-color: transparent;\n",
       "      border-bottom-color: var(--fill-color);\n",
       "    }\n",
       "  }\n",
       "</style>\n",
       "\n",
       "  <script>\n",
       "    async function quickchart(key) {\n",
       "      const quickchartButtonEl =\n",
       "        document.querySelector('#' + key + ' button');\n",
       "      quickchartButtonEl.disabled = true;  // To prevent multiple clicks.\n",
       "      quickchartButtonEl.classList.add('colab-df-spinner');\n",
       "      try {\n",
       "        const charts = await google.colab.kernel.invokeFunction(\n",
       "            'suggestCharts', [key], {});\n",
       "      } catch (error) {\n",
       "        console.error('Error during call to suggestCharts:', error);\n",
       "      }\n",
       "      quickchartButtonEl.classList.remove('colab-df-spinner');\n",
       "      quickchartButtonEl.classList.add('colab-df-quickchart-complete');\n",
       "    }\n",
       "    (() => {\n",
       "      let quickchartButtonEl =\n",
       "        document.querySelector('#df-c84de66f-b46c-486b-9f8a-353238ba2f72 button');\n",
       "      quickchartButtonEl.style.display =\n",
       "        google.colab.kernel.accessAllowed ? 'block' : 'none';\n",
       "    })();\n",
       "  </script>\n",
       "</div>\n",
       "\n",
       "    </div>\n",
       "  </div>\n"
      ],
      "text/plain": [
       "                                                    text  labels\n",
       "0      In the end, you'll be able to find a lot of in...       4\n",
       "1      You can now specify the number of animals you ...       4\n",
       "2      Take a word that could mean something like \"I ...       4\n",
       "3      For example, I like using this to mean 'animal...       4\n",
       "4      The term is useful in cases where you have thr...       4\n",
       "...                                                  ...     ...\n",
       "23995  \"I've been in trouble with authorities for the...       0\n",
       "23996  Write a story with that sort of thoughtfulness...       0\n",
       "23997  Do I need to get a response? No, thank you. I ...       0\n",
       "23998  But I know you will look for it. Because we bo...       0\n",
       "23999  Try to answer the question that says \"Do you k...       0\n",
       "\n",
       "[24000 rows x 2 columns]"
      ]
     },
     "metadata": {},
     "output_type": "display_data"
    }
   ],
   "source": [
    "# Asignamos la etiqueta numérica correspondiente\n",
    "df_filtered['labels'] = df_filtered['label'].map(label_mapping)\n",
    "\n",
    "# Verifica que las columnas necesarias estén bien formateadas\n",
    "display(df_filtered[['text', 'labels']])"
   ]
  },
  {
   "cell_type": "code",
   "execution_count": 9,
   "id": "2371a4b8-8981-4efb-bade-015c058fd406",
   "metadata": {
    "colab": {
     "base_uri": "https://localhost:8080/",
     "height": 268,
     "referenced_widgets": [
      "5d03857e711347859f7fa8d5cb434390",
      "88338dab3b4c4c389ae272b021ca2913",
      "87549e3f22ff4e49ae0756a643eb4168",
      "2ad0417f007d45ba8e80db716be7f4db",
      "d5d51cd1b29e41309b0aac933ad5e467",
      "cf34e75156bd47bd8f915f16782aa048",
      "35235a493ef34f33afa9fa6cd0449416",
      "88342c28ce8549a0ad9a37e09944e16a",
      "8ed90c84c2c74f71b6baa5f48c2c85dc",
      "dc805a7a606d49b4b20ae249e47d360a",
      "cf23d10515f94d49a57874063524e130",
      "329b92b9f4b4462d975a6a3afe3cdec4",
      "f6356ff73ab547969fa80293238b9699",
      "672e073ff7c24acca833d2ad3f6c3014",
      "591d08f747b74a9da218b85b1916179d",
      "06a6075f3ca5449bbed0d1e5f79b3d52",
      "98ef90d9f4164e328b44a985a138623b",
      "257af1b401c14fb682928128c4cbeea6",
      "43c4c6727af441eda4c72f8450487fa7",
      "aaf737b787214366ab779b28aeb458f6",
      "b08c5a88c12346c6ba706c8d35122ac5",
      "20154121c4e74ff292981791d075bd74"
     ]
    },
    "id": "2371a4b8-8981-4efb-bade-015c058fd406",
    "outputId": "19acf703-d786-4b96-9171-dbdc22465f13"
   },
   "outputs": [
    {
     "data": {
      "application/vnd.jupyter.widget-view+json": {
       "model_id": "5d03857e711347859f7fa8d5cb434390",
       "version_major": 2,
       "version_minor": 0
      },
      "text/plain": [
       "Casting the dataset:   0%|          | 0/24000 [00:00<?, ? examples/s]"
      ]
     },
     "metadata": {},
     "output_type": "display_data"
    },
    {
     "name": "stderr",
     "output_type": "stream",
     "text": [
      "/usr/local/lib/python3.11/dist-packages/huggingface_hub/utils/_auth.py:94: UserWarning: \n",
      "The secret `HF_TOKEN` does not exist in your Colab secrets.\n",
      "To authenticate with the Hugging Face Hub, create a token in your settings tab (https://huggingface.co/settings/tokens), set it as secret in your Google Colab and restart your session.\n",
      "You will be able to reuse this secret in all of your notebooks.\n",
      "Please note that authentication is recommended but still optional to access public models or datasets.\n",
      "  warnings.warn(\n"
     ]
    },
    {
     "data": {
      "application/vnd.jupyter.widget-view+json": {
       "model_id": "329b92b9f4b4462d975a6a3afe3cdec4",
       "version_major": 2,
       "version_minor": 0
      },
      "text/plain": [
       "Map:   0%|          | 0/24000 [00:00<?, ? examples/s]"
      ]
     },
     "metadata": {},
     "output_type": "display_data"
    },
    {
     "name": "stdout",
     "output_type": "stream",
     "text": [
      "Training dataset size: 19200\n",
      "Validation dataset size: 4800\n"
     ]
    }
   ],
   "source": [
    "# Convertimos el dataframe a un dataset de Hugging Face\n",
    "dataset = Dataset.from_pandas(df_filtered[['text', 'labels']])\n",
    "dataset = dataset.cast_column('labels', ClassLabel(num_classes=len(categories), names=categories))\n",
    "\n",
    "# Tokenización usando BERT\n",
    "tokenizer = BertTokenizer.from_pretrained(\"bert-base-uncased\")\n",
    "\n",
    "def tokenize_function(examples):\n",
    "    return tokenizer(examples['text'], padding=\"max_length\", truncation=True)\n",
    "\n",
    "tokenized_datasets = dataset.map(tokenize_function, batched=True)\n",
    "\n",
    "# Usamos el método `train_test_split` de Hugging Face que funciona con su Dataset.\n",
    "train_dataset, valid_dataset = tokenized_datasets.train_test_split(test_size=0.2, stratify_by_column=\"labels\",  seed=42).values()\n",
    "\n",
    "# Verificamos las dimensiones de los datasets resultantes\n",
    "print(f\"Training dataset size: {len(train_dataset)}\")\n",
    "print(f\"Validation dataset size: {len(valid_dataset)}\")\n"
   ]
  },
  {
   "cell_type": "markdown",
   "id": "a5d2fdbd-f9ea-4a0f-9079-89e4108d3605",
   "metadata": {
    "id": "a5d2fdbd-f9ea-4a0f-9079-89e4108d3605"
   },
   "source": [
    "## Creación del modelo con BERT para fine-tuning"
   ]
  },
  {
   "cell_type": "code",
   "execution_count": 10,
   "id": "9c154eb5-3d0e-4a00-bbec-efa05419ea33",
   "metadata": {
    "colab": {
     "base_uri": "https://localhost:8080/"
    },
    "id": "9c154eb5-3d0e-4a00-bbec-efa05419ea33",
    "outputId": "7341364c-97ac-4841-db3a-91208a8a4648",
    "scrolled": true
   },
   "outputs": [
    {
     "name": "stderr",
     "output_type": "stream",
     "text": [
      "Some weights of BertForSequenceClassification were not initialized from the model checkpoint at bert-base-uncased and are newly initialized: ['classifier.bias', 'classifier.weight']\n",
      "You should probably TRAIN this model on a down-stream task to be able to use it for predictions and inference.\n"
     ]
    },
    {
     "name": "stdout",
     "output_type": "stream",
     "text": [
      "Trainable parameters: 7092486\n"
     ]
    }
   ],
   "source": [
    "# Cargar el modelo de BERT\n",
    "model = BertForSequenceClassification.from_pretrained(\"bert-base-uncased\", num_labels=len(categories), hidden_dropout_prob=0.3)\n",
    "model = model.to(device)\n",
    "\n",
    "# Congelar todas las capas\n",
    "for param in model.base_model.parameters():\n",
    "    param.requires_grad = False\n",
    "\n",
    "# Descongelamos la capa de clasificación (la última capa)\n",
    "for param in model.classifier.parameters():\n",
    "    param.requires_grad = True\n",
    "\n",
    "# La última capa de BERT sería la capa que corresponde a `encoder.layer[-1]`\n",
    "for param in model.bert.encoder.layer[-1].parameters():\n",
    "    param.requires_grad = True\n",
    "\n",
    "print(f\"Trainable parameters: {sum(p.numel() for p in model.parameters() if p.requires_grad)}\")"
   ]
  },
  {
   "cell_type": "code",
   "execution_count": 11,
   "id": "3a1fe760-2a3a-4e01-8efc-1939f5406e6d",
   "metadata": {
    "id": "3a1fe760-2a3a-4e01-8efc-1939f5406e6d"
   },
   "outputs": [],
   "source": [
    "# computar las siguientes metricas cada epoca\n",
    "def compute_metrics(p):\n",
    "    # Extraer las predicciones y etiquetas verdaderas\n",
    "    predictions, labels = p\n",
    "    predictions = np.argmax(predictions, axis=-1)  # Obtener las clases predichas\n",
    "\n",
    "    # Calcular las métricas de interés\n",
    "    accuracy = accuracy_score(labels, predictions)\n",
    "    f1 = f1_score(labels, predictions, average='weighted')  # F1 score ponderado\n",
    "    recall = recall_score(labels, predictions, average='weighted')  # Recall ponderado\n",
    "    precision = precision_score(labels, predictions, average='weighted')  # Precision ponderada\n",
    "\n",
    "    return {\n",
    "        'accuracy': accuracy,\n",
    "        'f1': f1,\n",
    "        'recall': recall,\n",
    "        'precision': precision\n",
    "    }"
   ]
  },
  {
   "cell_type": "code",
   "execution_count": 12,
   "id": "8f6a04f0-dadb-41a8-8dec-8257aca25325",
   "metadata": {
    "colab": {
     "base_uri": "https://localhost:8080/"
    },
    "id": "8f6a04f0-dadb-41a8-8dec-8257aca25325",
    "outputId": "6279a03b-3381-40d0-cb53-a59388b776fc"
   },
   "outputs": [
    {
     "name": "stderr",
     "output_type": "stream",
     "text": [
      "/usr/local/lib/python3.11/dist-packages/transformers/training_args.py:1575: FutureWarning: `evaluation_strategy` is deprecated and will be removed in version 4.46 of 🤗 Transformers. Use `eval_strategy` instead\n",
      "  warnings.warn(\n"
     ]
    }
   ],
   "source": [
    "# Configuración de cada cuantos pasos hacer un logging\n",
    "batch_size = 10\n",
    "\n",
    "# Configurar los parámetros de entrenamiento\n",
    "training_args = TrainingArguments(\n",
    "    output_dir=\"./training-classes-2\",         # Carpeta donde se guardarán los resultados\n",
    "    num_train_epochs=3,                  # Número de épocas\n",
    "    per_device_train_batch_size=batch_size,       # Tamaño del batch para el entrenamiento\n",
    "    per_device_eval_batch_size=batch_size,        # Tamaño del batch para la validación\n",
    "    warmup_steps=500,                    # Pasos de calentamiento para el optimizador\n",
    "    weight_decay=0.01,                   # Decaimiento del peso para evitar sobreajuste\n",
    "    logging_dir=\"./logs_training-classes-2\",           # Carpeta para los logs\n",
    "    evaluation_strategy=\"epoch\",         # Evaluación cada ciertos pasos\n",
    "    save_strategy=\"epoch\",               # Guardar el modelo al final de cada época\n",
    "    save_total_limit=2,                  # Mantener solo los 2 checkpoints más recientes\n",
    "    load_best_model_at_end=True,           # Cargar el mejor modelo al final del entrenamiento\n",
    "    metric_for_best_model=\"eval_loss\",     # Métrica para comparar cuál es el mejor modelo (usamos el loss)\n",
    "    greater_is_better=False,               # Dado que un valor de loss más bajo es mejor\n",
    ")"
   ]
  },
  {
   "cell_type": "code",
   "execution_count": 13,
   "id": "c0e70f7b-4a8c-4949-a653-1e10e148e41b",
   "metadata": {
    "id": "c0e70f7b-4a8c-4949-a653-1e10e148e41b"
   },
   "outputs": [],
   "source": [
    "# Crear el objeto Trainer\n",
    "trainer = Trainer(\n",
    "    model=model,                         # El modelo preentrenado\n",
    "    args=training_args,                  # Los argumentos de entrenamiento\n",
    "    train_dataset=train_dataset,         # El dataset de entrenamiento\n",
    "    eval_dataset=valid_dataset,          # El dataset de validación\n",
    "    compute_metrics=compute_metrics,     # Función de métricas\n",
    "    callbacks=[EarlyStoppingCallback(early_stopping_patience=3)],\n",
    ")"
   ]
  },
  {
   "cell_type": "markdown",
   "id": "076296bb-ac13-4952-9c47-c93810ac03b3",
   "metadata": {
    "id": "076296bb-ac13-4952-9c47-c93810ac03b3"
   },
   "source": [
    "## Entrenamiento del modelo (fine-tuning)"
   ]
  },
  {
   "cell_type": "code",
   "execution_count": 14,
   "id": "b14a5e62-ceaa-4ad8-9f6e-1c443bdbfe56",
   "metadata": {
    "colab": {
     "base_uri": "https://localhost:8080/",
     "height": 259
    },
    "id": "b14a5e62-ceaa-4ad8-9f6e-1c443bdbfe56",
    "outputId": "3b62b850-3ea8-436c-e39d-31cf46b61274"
   },
   "outputs": [
    {
     "name": "stderr",
     "output_type": "stream",
     "text": [
      "\u001b[34m\u001b[1mwandb\u001b[0m: \u001b[33mWARNING\u001b[0m The `run_name` is currently set to the same value as `TrainingArguments.output_dir`. If this was not intended, please specify a different run name by setting the `TrainingArguments.run_name` parameter.\n"
     ]
    },
    {
     "data": {
      "text/html": [
       "\n",
       "    <div>\n",
       "      \n",
       "      <progress value='5760' max='5760' style='width:300px; height:20px; vertical-align: middle;'></progress>\n",
       "      [5760/5760 40:58, Epoch 3/3]\n",
       "    </div>\n",
       "    <table border=\"1\" class=\"dataframe\">\n",
       "  <thead>\n",
       " <tr style=\"text-align: left;\">\n",
       "      <th>Epoch</th>\n",
       "      <th>Training Loss</th>\n",
       "      <th>Validation Loss</th>\n",
       "      <th>Accuracy</th>\n",
       "      <th>F1</th>\n",
       "      <th>Recall</th>\n",
       "      <th>Precision</th>\n",
       "    </tr>\n",
       "  </thead>\n",
       "  <tbody>\n",
       "    <tr>\n",
       "      <td>1</td>\n",
       "      <td>0.859200</td>\n",
       "      <td>0.793100</td>\n",
       "      <td>0.724792</td>\n",
       "      <td>0.725144</td>\n",
       "      <td>0.724792</td>\n",
       "      <td>0.732520</td>\n",
       "    </tr>\n",
       "    <tr>\n",
       "      <td>2</td>\n",
       "      <td>0.767700</td>\n",
       "      <td>0.744156</td>\n",
       "      <td>0.742708</td>\n",
       "      <td>0.742588</td>\n",
       "      <td>0.742708</td>\n",
       "      <td>0.747358</td>\n",
       "    </tr>\n",
       "    <tr>\n",
       "      <td>3</td>\n",
       "      <td>0.708900</td>\n",
       "      <td>0.744071</td>\n",
       "      <td>0.745625</td>\n",
       "      <td>0.745723</td>\n",
       "      <td>0.745625</td>\n",
       "      <td>0.750597</td>\n",
       "    </tr>\n",
       "  </tbody>\n",
       "</table><p>"
      ],
      "text/plain": [
       "<IPython.core.display.HTML object>"
      ]
     },
     "metadata": {},
     "output_type": "display_data"
    },
    {
     "data": {
      "text/plain": [
       "TrainOutput(global_step=5760, training_loss=0.8574343787299262, metrics={'train_runtime': 2461.4084, 'train_samples_per_second': 23.401, 'train_steps_per_second': 2.34, 'total_flos': 1.51557410783232e+16, 'train_loss': 0.8574343787299262, 'epoch': 3.0})"
      ]
     },
     "execution_count": 14,
     "metadata": {},
     "output_type": "execute_result"
    }
   ],
   "source": [
    "# Entrenar el modelo\n",
    "\n",
    "trainer.train()"
   ]
  },
  {
   "cell_type": "code",
   "execution_count": 15,
   "id": "9dfc8e70-2b3b-4ae0-9e75-561cebeed7c8",
   "metadata": {
    "colab": {
     "base_uri": "https://localhost:8080/"
    },
    "id": "9dfc8e70-2b3b-4ae0-9e75-561cebeed7c8",
    "outputId": "b432cfaf-57e8-4e92-ae59-2a61d4e425a2"
   },
   "outputs": [
    {
     "data": {
      "text/plain": [
       "('./bert_model_2/tokenizer_config.json',\n",
       " './bert_model_2/special_tokens_map.json',\n",
       " './bert_model_2/vocab.txt',\n",
       " './bert_model_2/added_tokens.json')"
      ]
     },
     "execution_count": 15,
     "metadata": {},
     "output_type": "execute_result"
    }
   ],
   "source": [
    "# Guardar el modelo y el tokenizador\n",
    "model.save_pretrained(\"./bert_model_2\")\n",
    "tokenizer.save_pretrained(\"./bert_model_2\")"
   ]
  },
  {
   "cell_type": "markdown",
   "id": "2b074186-5ae8-4b9d-b154-cb79d52d08fd",
   "metadata": {
    "id": "2b074186-5ae8-4b9d-b154-cb79d52d08fd"
   },
   "source": [
    "## Resultados y evaluaciones"
   ]
  },
  {
   "cell_type": "code",
   "execution_count": 16,
   "id": "116a7dfd-8648-4987-b199-c2f10a0f3cf5",
   "metadata": {
    "colab": {
     "base_uri": "https://localhost:8080/",
     "height": 193
    },
    "id": "116a7dfd-8648-4987-b199-c2f10a0f3cf5",
    "outputId": "f227d10c-0796-4d43-a97d-9113972bdef4"
   },
   "outputs": [
    {
     "data": {
      "text/html": [
       "\n",
       "    <div>\n",
       "      \n",
       "      <progress value='480' max='480' style='width:300px; height:20px; vertical-align: middle;'></progress>\n",
       "      [480/480 02:20]\n",
       "    </div>\n",
       "    "
      ],
      "text/plain": [
       "<IPython.core.display.HTML object>"
      ]
     },
     "metadata": {},
     "output_type": "display_data"
    },
    {
     "data": {
      "text/plain": [
       "{'eval_loss': 0.7440706491470337,\n",
       " 'eval_accuracy': 0.745625,\n",
       " 'eval_f1': 0.7457230584511514,\n",
       " 'eval_recall': 0.745625,\n",
       " 'eval_precision': 0.7505973587992785,\n",
       " 'eval_runtime': 140.7005,\n",
       " 'eval_samples_per_second': 34.115,\n",
       " 'eval_steps_per_second': 3.412,\n",
       " 'epoch': 3.0}"
      ]
     },
     "execution_count": 16,
     "metadata": {},
     "output_type": "execute_result"
    }
   ],
   "source": [
    "# Evaluar el modelo en el conjunto de validación\n",
    "trainer.evaluate()"
   ]
  },
  {
   "cell_type": "code",
   "execution_count": 17,
   "id": "3a0021c8-226e-4bb2-b184-f2c65b28f8af",
   "metadata": {
    "id": "3a0021c8-226e-4bb2-b184-f2c65b28f8af"
   },
   "outputs": [],
   "source": [
    "import torch.nn.functional as F\n",
    "\n",
    "def predict(text):\n",
    "    # Tokenizar y mover los datos a la misma ubicación del modelo\n",
    "    inputs = tokenizer(text, return_tensors=\"pt\", padding=True, truncation=True, max_length=512)\n",
    "    inputs = {key: value.to(device) for key, value in inputs.items()}  # Mover los tensores al dispositivo\n",
    "\n",
    "    # Realizar la predicción\n",
    "    with torch.no_grad():  # Desactivar el cálculo de gradientes (no es necesario para la inferencia)\n",
    "        outputs = model(**inputs)\n",
    "\n",
    "    logits = outputs.logits\n",
    "\n",
    "    # Aplicar softmax a los logits para obtener probabilidades\n",
    "    probabilities = F.softmax(logits, dim=-1)\n",
    "\n",
    "    # Obtener la clase con la mayor probabilidad\n",
    "    predicted_class_id = torch.argmax(probabilities, dim=-1).item()  # Clase con la mayor probabilidad\n",
    "\n",
    "    # Devolver la clase predicha y las probabilidades de cada clase\n",
    "    return predicted_class_id, probabilities.squeeze().cpu().numpy()  # `squeeze()` elimina dimensiones innecesarias\n",
    "\n",
    "def predict_text(text):\n",
    "    prediction, proba = predict(text)\n",
    "    print(f\"Predicción: {categories[prediction]}\")\n",
    "    print(f\"Probabilidad: {proba[prediction]}\")\n",
    "    print(f\"Lista de probabilidades {proba}\")\n",
    "\n"
   ]
  },
  {
   "cell_type": "markdown",
   "id": "368576d8-3db3-46cb-af0c-1ff5dfc80c7f",
   "metadata": {
    "id": "368576d8-3db3-46cb-af0c-1ff5dfc80c7f"
   },
   "source": [
    "### Resultados del problema"
   ]
  },
  {
   "cell_type": "code",
   "execution_count": 18,
   "id": "8bc3fef7-a9ae-4f33-abd3-0214cbd80d5b",
   "metadata": {
    "colab": {
     "base_uri": "https://localhost:8080/"
    },
    "id": "8bc3fef7-a9ae-4f33-abd3-0214cbd80d5b",
    "outputId": "b9af860b-41db-48c2-db12-504b9362bc7d"
   },
   "outputs": [
    {
     "name": "stdout",
     "output_type": "stream",
     "text": [
      "Predicción: animal\n",
      "Probabilidad: 0.9793328642845154\n",
      "Lista de probabilidades [6.8734394e-04 9.3846601e-03 2.5245934e-03 5.7161800e-03 9.7933286e-01\n",
      " 2.3542661e-03]\n"
     ]
    }
   ],
   "source": [
    "predict_text(\"The axolotl is more than a peculiar amphibian; in its natural environment, it plays an essential role in the ecological stability of the Xochimilco canals.\")"
   ]
  },
  {
   "cell_type": "code",
   "execution_count": 19,
   "id": "461b4896-45bc-4de6-a9c2-4325fceb0167",
   "metadata": {
    "colab": {
     "base_uri": "https://localhost:8080/"
    },
    "id": "461b4896-45bc-4de6-a9c2-4325fceb0167",
    "outputId": "6aa3b8f6-8057-4c6c-9e0e-12f367b648bb"
   },
   "outputs": [
    {
     "name": "stdout",
     "output_type": "stream",
     "text": [
      "Predicción: artificial intelligence\n",
      "Probabilidad: 0.9734634160995483\n",
      "Lista de probabilidades [0.00110825 0.9734634  0.01770419 0.00108552 0.00481011 0.00182856]\n"
     ]
    }
   ],
   "source": [
    "predict_text(\"Geoffrey Hinton, Yann LeCun and Yoshua Bengio are considered the ‘godfathers’ of an essential technique in artificial intelligence, called ‘deep learning’.\")"
   ]
  },
  {
   "cell_type": "code",
   "execution_count": 20,
   "id": "88f783bd-456d-4e55-b1ea-01ae9878e632",
   "metadata": {
    "colab": {
     "base_uri": "https://localhost:8080/"
    },
    "id": "88f783bd-456d-4e55-b1ea-01ae9878e632",
    "outputId": "a0f918cb-0004-4e86-b581-97ef061ff4b2"
   },
   "outputs": [
    {
     "name": "stdout",
     "output_type": "stream",
     "text": [
      "Predicción: travel\n",
      "Probabilidad: 0.9301352500915527\n",
      "Lista de probabilidades [0.0343066  0.0137071  0.00410052 0.93013525 0.00590949 0.01184107]\n"
     ]
    }
   ],
   "source": [
    "predict_text(\"Greenland is about to open up to adventure-seeking visitors. How many tourists will come is yet to be seen, but the three new airports will bring profound change.\")"
   ]
  },
  {
   "cell_type": "code",
   "execution_count": 21,
   "id": "d24f26f9-63ee-479a-915d-7b49f0c1f6ee",
   "metadata": {
    "colab": {
     "base_uri": "https://localhost:8080/"
    },
    "id": "d24f26f9-63ee-479a-915d-7b49f0c1f6ee",
    "outputId": "4cf84533-923e-4c06-eac7-aa013b507967"
   },
   "outputs": [
    {
     "name": "stdout",
     "output_type": "stream",
     "text": [
      "Predicción: artificial intelligence\n",
      "Probabilidad: 0.9572142362594604\n",
      "Lista de probabilidades [1.3526041e-03 9.5721424e-01 2.8974894e-02 2.3239171e-03 9.2014531e-03\n",
      " 9.3279628e-04]\n"
     ]
    }
   ],
   "source": [
    "predict_text(\"GitHub Copilot is an AI coding assistant that helps you write code faster and with less effort, allowing you to focus more energy on problem solving and collaboration.\")"
   ]
  },
  {
   "cell_type": "code",
   "execution_count": 22,
   "id": "567d0049-0bdb-42dd-8e02-54ffeb7ccd01",
   "metadata": {
    "colab": {
     "base_uri": "https://localhost:8080/"
    },
    "id": "567d0049-0bdb-42dd-8e02-54ffeb7ccd01",
    "outputId": "9a756526-d6af-4f88-84d8-dc0085f1f6fc"
   },
   "outputs": [
    {
     "name": "stdout",
     "output_type": "stream",
     "text": [
      "Predicción: urgent\n",
      "Probabilidad: 0.7638747096061707\n",
      "Lista de probabilidades [0.7638747  0.08489899 0.06139306 0.00826413 0.02576151 0.05580759]\n"
     ]
    }
   ],
   "source": [
    "predict_text(\"I have a problem with my laptop that needs to be resolved asap!!\")"
   ]
  },
  {
   "cell_type": "markdown",
   "id": "f81a0cea-2d0d-48bc-aea4-914848f65e0c",
   "metadata": {
    "id": "f81a0cea-2d0d-48bc-aea4-914848f65e0c"
   },
   "source": [
    "### Evaluación de resultados"
   ]
  },
  {
   "cell_type": "code",
   "execution_count": 23,
   "id": "d9ef2f89-e93a-4e52-b416-f9f857653a81",
   "metadata": {
    "id": "d9ef2f89-e93a-4e52-b416-f9f857653a81"
   },
   "outputs": [],
   "source": [
    "\n",
    "# Función para calcular las métricas globales\n",
    "def compute_global_metrics(predictions, labels):\n",
    "    accuracy = accuracy_score(labels, predictions)\n",
    "    precision = precision_score(labels, predictions, average='weighted')  # 'weighted' para ponderar las clases\n",
    "    recall = recall_score(labels, predictions, average='weighted')\n",
    "    f1 = f1_score(labels, predictions, average='weighted')\n",
    "\n",
    "    return {\n",
    "        'accuracy': accuracy,\n",
    "        'precision': precision,\n",
    "        'recall': recall,\n",
    "        'f1': f1\n",
    "    }\n",
    "\n",
    "# Función para calcular las métricas por clase\n",
    "def compute_class_metrics(predictions, labels):\n",
    "    precision_per_class = precision_score(labels, predictions, average=None)  # Metrica por clase\n",
    "    recall_per_class = recall_score(labels, predictions, average=None)\n",
    "    f1_per_class = f1_score(labels, predictions, average=None)\n",
    "\n",
    "    # Convertir los arreglos de métricas por clase en listas\n",
    "    precision_per_class = precision_per_class.tolist()\n",
    "    recall_per_class = recall_per_class.tolist()\n",
    "    f1_per_class = f1_per_class.tolist()\n",
    "\n",
    "    return {\n",
    "        'class':categories,\n",
    "        'precision_per_class': precision_per_class,\n",
    "        'recall_per_class': recall_per_class,\n",
    "        'f1_per_class': f1_per_class\n",
    "    }"
   ]
  },
  {
   "cell_type": "code",
   "execution_count": 24,
   "id": "9cd22ee1-21e8-4ca9-9d60-61fe56024b86",
   "metadata": {
    "colab": {
     "base_uri": "https://localhost:8080/",
     "height": 17
    },
    "id": "9cd22ee1-21e8-4ca9-9d60-61fe56024b86",
    "outputId": "09a3c832-e591-4792-ddb7-36575777e9fa",
    "scrolled": true
   },
   "outputs": [
    {
     "data": {
      "text/html": [],
      "text/plain": [
       "<IPython.core.display.HTML object>"
      ]
     },
     "metadata": {},
     "output_type": "display_data"
    }
   ],
   "source": [
    "# Realizar predicciones sobre el conjunto de validación\n",
    "predictions = trainer.predict(valid_dataset)\n",
    "\n",
    "# Obtener las predicciones y las etiquetas verdaderas\n",
    "pred_labels = np.argmax(predictions.predictions, axis=-1)  # Obtener las clases predichas\n",
    "true_labels = predictions.label_ids  # Obtener las clases verdaderas\n",
    "\n",
    "# Aplicar softmax a los logits para obtener probabilidades\n",
    "pred_probas = F.softmax(torch.tensor(predictions.predictions), dim=-1).numpy()"
   ]
  },
  {
   "cell_type": "code",
   "execution_count": 25,
   "id": "5e30cce5-6c63-42b7-9b50-e428199f77e8",
   "metadata": {
    "colab": {
     "base_uri": "https://localhost:8080/"
    },
    "id": "5e30cce5-6c63-42b7-9b50-e428199f77e8",
    "outputId": "c8bd3178-8a44-4a89-80d8-5324fedf8714"
   },
   "outputs": [
    {
     "name": "stdout",
     "output_type": "stream",
     "text": [
      "Predicciones: [3 4 2 5 0 4 3 2 1 0]\n",
      "Etiquetas verdaderas: [0 4 2 5 0 4 3 1 1 0]\n",
      "Probabilidades: [[1.0487131e-02 9.8984968e-03 1.6983287e-02 8.8256025e-01 3.2865115e-02\n",
      "  4.7205716e-02]\n",
      " [2.7348085e-03 1.8334273e-02 2.3854834e-03 4.8408668e-02 8.8947737e-01\n",
      "  3.8659342e-02]\n",
      " [1.5560944e-03 6.7409035e-03 9.8157239e-01 3.5998141e-03 5.9519024e-03\n",
      "  5.7880546e-04]\n",
      " [9.8928893e-03 1.0809259e-02 3.7663023e-03 3.7532520e-02 1.1528924e-02\n",
      "  9.2647016e-01]\n",
      " [9.8775303e-01 1.7105695e-03 2.0665526e-03 3.6431991e-03 6.2180281e-04\n",
      "  4.2049838e-03]\n",
      " [1.1669351e-04 3.5301424e-03 1.5989726e-03 3.7762304e-03 9.8938143e-01\n",
      "  1.5965049e-03]\n",
      " [5.5913720e-03 1.0952268e-03 4.2355447e-03 9.8373866e-01 1.7663654e-03\n",
      "  3.5728959e-03]\n",
      " [1.3930247e-03 2.6034874e-01 6.7354733e-01 3.0361908e-02 3.2607730e-02\n",
      "  1.7412684e-03]\n",
      " [1.6524575e-03 9.7560763e-01 1.0135933e-02 1.7441375e-03 9.2935050e-03\n",
      "  1.5663136e-03]\n",
      " [5.3485709e-01 8.9668639e-02 6.5904902e-03 2.6653249e-02 5.9797843e-03\n",
      "  3.3625066e-01]]\n"
     ]
    }
   ],
   "source": [
    "# Imprimir las primeras 10 predicciones y sus verdaderas etiquetas\n",
    "print(f\"Predicciones: {pred_labels[:10]}\")\n",
    "print(f\"Etiquetas verdaderas: {true_labels[:10]}\")\n",
    "print(f\"Probabilidades: {pred_probas[:10]}\")"
   ]
  },
  {
   "cell_type": "markdown",
   "id": "4bf440d1-45a3-49da-9285-a373807e5385",
   "metadata": {
    "id": "4bf440d1-45a3-49da-9285-a373807e5385"
   },
   "source": [
    "### Accuracy, precision, recall y f1"
   ]
  },
  {
   "cell_type": "code",
   "execution_count": 26,
   "id": "a30eaff3-2924-47ea-9351-5aee053af9d1",
   "metadata": {
    "colab": {
     "base_uri": "https://localhost:8080/",
     "height": 238
    },
    "id": "a30eaff3-2924-47ea-9351-5aee053af9d1",
    "outputId": "717f18ff-9c83-472c-c302-d0c496442c26"
   },
   "outputs": [
    {
     "data": {
      "application/vnd.google.colaboratory.intrinsic+json": {
       "summary": "{\n  \"name\": \"pd\",\n  \"rows\": 6,\n  \"fields\": [\n    {\n      \"column\": \"class\",\n      \"properties\": {\n        \"dtype\": \"string\",\n        \"num_unique_values\": 6,\n        \"samples\": [\n          \"urgent\",\n          \"artificial intelligence\",\n          \"fiction\"\n        ],\n        \"semantic_type\": \"\",\n        \"description\": \"\"\n      }\n    },\n    {\n      \"column\": \"precision_per_class\",\n      \"properties\": {\n        \"dtype\": \"number\",\n        \"std\": 0.053189586811560795,\n        \"min\": 0.6878980891719745,\n        \"max\": 0.8398791540785498,\n        \"num_unique_values\": 6,\n        \"samples\": [\n          0.7626506024096386,\n          0.7493403693931399,\n          0.7054714784633295\n        ],\n        \"semantic_type\": \"\",\n        \"description\": \"\"\n      }\n    },\n    {\n      \"column\": \"recall_per_class\",\n      \"properties\": {\n        \"dtype\": \"number\",\n        \"std\": 0.04789147888716743,\n        \"min\": 0.695,\n        \"max\": 0.81,\n        \"num_unique_values\": 5,\n        \"samples\": [\n          0.71,\n          0.7575,\n          0.81\n        ],\n        \"semantic_type\": \"\",\n        \"description\": \"\"\n      }\n    },\n    {\n      \"column\": \"f1_per_class\",\n      \"properties\": {\n        \"dtype\": \"number\",\n        \"std\": 0.01918624384187654,\n        \"min\": 0.7291399229781772,\n        \"max\": 0.7766871165644171,\n        \"num_unique_values\": 6,\n        \"samples\": [\n          0.7766871165644171,\n          0.7291399229781772,\n          0.7305605786618445\n        ],\n        \"semantic_type\": \"\",\n        \"description\": \"\"\n      }\n    }\n  ]\n}",
       "type": "dataframe"
      },
      "text/html": [
       "\n",
       "  <div id=\"df-f27d05ca-1df8-4ee1-bb04-059f737aa5de\" class=\"colab-df-container\">\n",
       "    <div>\n",
       "<style scoped>\n",
       "    .dataframe tbody tr th:only-of-type {\n",
       "        vertical-align: middle;\n",
       "    }\n",
       "\n",
       "    .dataframe tbody tr th {\n",
       "        vertical-align: top;\n",
       "    }\n",
       "\n",
       "    .dataframe thead th {\n",
       "        text-align: right;\n",
       "    }\n",
       "</style>\n",
       "<table border=\"1\" class=\"dataframe\">\n",
       "  <thead>\n",
       "    <tr style=\"text-align: right;\">\n",
       "      <th></th>\n",
       "      <th>class</th>\n",
       "      <th>precision_per_class</th>\n",
       "      <th>recall_per_class</th>\n",
       "      <th>f1_per_class</th>\n",
       "    </tr>\n",
       "  </thead>\n",
       "  <tbody>\n",
       "    <tr>\n",
       "      <th>0</th>\n",
       "      <td>urgent</td>\n",
       "      <td>0.762651</td>\n",
       "      <td>0.79125</td>\n",
       "      <td>0.776687</td>\n",
       "    </tr>\n",
       "    <tr>\n",
       "      <th>1</th>\n",
       "      <td>artificial intelligence</td>\n",
       "      <td>0.749340</td>\n",
       "      <td>0.71000</td>\n",
       "      <td>0.729140</td>\n",
       "    </tr>\n",
       "    <tr>\n",
       "      <th>2</th>\n",
       "      <td>computer</td>\n",
       "      <td>0.687898</td>\n",
       "      <td>0.81000</td>\n",
       "      <td>0.743972</td>\n",
       "    </tr>\n",
       "    <tr>\n",
       "      <th>3</th>\n",
       "      <td>travel</td>\n",
       "      <td>0.758344</td>\n",
       "      <td>0.71000</td>\n",
       "      <td>0.733376</td>\n",
       "    </tr>\n",
       "    <tr>\n",
       "      <th>4</th>\n",
       "      <td>animal</td>\n",
       "      <td>0.839879</td>\n",
       "      <td>0.69500</td>\n",
       "      <td>0.760602</td>\n",
       "    </tr>\n",
       "    <tr>\n",
       "      <th>5</th>\n",
       "      <td>fiction</td>\n",
       "      <td>0.705471</td>\n",
       "      <td>0.75750</td>\n",
       "      <td>0.730561</td>\n",
       "    </tr>\n",
       "  </tbody>\n",
       "</table>\n",
       "</div>\n",
       "    <div class=\"colab-df-buttons\">\n",
       "\n",
       "  <div class=\"colab-df-container\">\n",
       "    <button class=\"colab-df-convert\" onclick=\"convertToInteractive('df-f27d05ca-1df8-4ee1-bb04-059f737aa5de')\"\n",
       "            title=\"Convert this dataframe to an interactive table.\"\n",
       "            style=\"display:none;\">\n",
       "\n",
       "  <svg xmlns=\"http://www.w3.org/2000/svg\" height=\"24px\" viewBox=\"0 -960 960 960\">\n",
       "    <path d=\"M120-120v-720h720v720H120Zm60-500h600v-160H180v160Zm220 220h160v-160H400v160Zm0 220h160v-160H400v160ZM180-400h160v-160H180v160Zm440 0h160v-160H620v160ZM180-180h160v-160H180v160Zm440 0h160v-160H620v160Z\"/>\n",
       "  </svg>\n",
       "    </button>\n",
       "\n",
       "  <style>\n",
       "    .colab-df-container {\n",
       "      display:flex;\n",
       "      gap: 12px;\n",
       "    }\n",
       "\n",
       "    .colab-df-convert {\n",
       "      background-color: #E8F0FE;\n",
       "      border: none;\n",
       "      border-radius: 50%;\n",
       "      cursor: pointer;\n",
       "      display: none;\n",
       "      fill: #1967D2;\n",
       "      height: 32px;\n",
       "      padding: 0 0 0 0;\n",
       "      width: 32px;\n",
       "    }\n",
       "\n",
       "    .colab-df-convert:hover {\n",
       "      background-color: #E2EBFA;\n",
       "      box-shadow: 0px 1px 2px rgba(60, 64, 67, 0.3), 0px 1px 3px 1px rgba(60, 64, 67, 0.15);\n",
       "      fill: #174EA6;\n",
       "    }\n",
       "\n",
       "    .colab-df-buttons div {\n",
       "      margin-bottom: 4px;\n",
       "    }\n",
       "\n",
       "    [theme=dark] .colab-df-convert {\n",
       "      background-color: #3B4455;\n",
       "      fill: #D2E3FC;\n",
       "    }\n",
       "\n",
       "    [theme=dark] .colab-df-convert:hover {\n",
       "      background-color: #434B5C;\n",
       "      box-shadow: 0px 1px 3px 1px rgba(0, 0, 0, 0.15);\n",
       "      filter: drop-shadow(0px 1px 2px rgba(0, 0, 0, 0.3));\n",
       "      fill: #FFFFFF;\n",
       "    }\n",
       "  </style>\n",
       "\n",
       "    <script>\n",
       "      const buttonEl =\n",
       "        document.querySelector('#df-f27d05ca-1df8-4ee1-bb04-059f737aa5de button.colab-df-convert');\n",
       "      buttonEl.style.display =\n",
       "        google.colab.kernel.accessAllowed ? 'block' : 'none';\n",
       "\n",
       "      async function convertToInteractive(key) {\n",
       "        const element = document.querySelector('#df-f27d05ca-1df8-4ee1-bb04-059f737aa5de');\n",
       "        const dataTable =\n",
       "          await google.colab.kernel.invokeFunction('convertToInteractive',\n",
       "                                                    [key], {});\n",
       "        if (!dataTable) return;\n",
       "\n",
       "        const docLinkHtml = 'Like what you see? Visit the ' +\n",
       "          '<a target=\"_blank\" href=https://colab.research.google.com/notebooks/data_table.ipynb>data table notebook</a>'\n",
       "          + ' to learn more about interactive tables.';\n",
       "        element.innerHTML = '';\n",
       "        dataTable['output_type'] = 'display_data';\n",
       "        await google.colab.output.renderOutput(dataTable, element);\n",
       "        const docLink = document.createElement('div');\n",
       "        docLink.innerHTML = docLinkHtml;\n",
       "        element.appendChild(docLink);\n",
       "      }\n",
       "    </script>\n",
       "  </div>\n",
       "\n",
       "\n",
       "<div id=\"df-7cc31f27-deb0-41ed-839c-62df451e0af5\">\n",
       "  <button class=\"colab-df-quickchart\" onclick=\"quickchart('df-7cc31f27-deb0-41ed-839c-62df451e0af5')\"\n",
       "            title=\"Suggest charts\"\n",
       "            style=\"display:none;\">\n",
       "\n",
       "<svg xmlns=\"http://www.w3.org/2000/svg\" height=\"24px\"viewBox=\"0 0 24 24\"\n",
       "     width=\"24px\">\n",
       "    <g>\n",
       "        <path d=\"M19 3H5c-1.1 0-2 .9-2 2v14c0 1.1.9 2 2 2h14c1.1 0 2-.9 2-2V5c0-1.1-.9-2-2-2zM9 17H7v-7h2v7zm4 0h-2V7h2v10zm4 0h-2v-4h2v4z\"/>\n",
       "    </g>\n",
       "</svg>\n",
       "  </button>\n",
       "\n",
       "<style>\n",
       "  .colab-df-quickchart {\n",
       "      --bg-color: #E8F0FE;\n",
       "      --fill-color: #1967D2;\n",
       "      --hover-bg-color: #E2EBFA;\n",
       "      --hover-fill-color: #174EA6;\n",
       "      --disabled-fill-color: #AAA;\n",
       "      --disabled-bg-color: #DDD;\n",
       "  }\n",
       "\n",
       "  [theme=dark] .colab-df-quickchart {\n",
       "      --bg-color: #3B4455;\n",
       "      --fill-color: #D2E3FC;\n",
       "      --hover-bg-color: #434B5C;\n",
       "      --hover-fill-color: #FFFFFF;\n",
       "      --disabled-bg-color: #3B4455;\n",
       "      --disabled-fill-color: #666;\n",
       "  }\n",
       "\n",
       "  .colab-df-quickchart {\n",
       "    background-color: var(--bg-color);\n",
       "    border: none;\n",
       "    border-radius: 50%;\n",
       "    cursor: pointer;\n",
       "    display: none;\n",
       "    fill: var(--fill-color);\n",
       "    height: 32px;\n",
       "    padding: 0;\n",
       "    width: 32px;\n",
       "  }\n",
       "\n",
       "  .colab-df-quickchart:hover {\n",
       "    background-color: var(--hover-bg-color);\n",
       "    box-shadow: 0 1px 2px rgba(60, 64, 67, 0.3), 0 1px 3px 1px rgba(60, 64, 67, 0.15);\n",
       "    fill: var(--button-hover-fill-color);\n",
       "  }\n",
       "\n",
       "  .colab-df-quickchart-complete:disabled,\n",
       "  .colab-df-quickchart-complete:disabled:hover {\n",
       "    background-color: var(--disabled-bg-color);\n",
       "    fill: var(--disabled-fill-color);\n",
       "    box-shadow: none;\n",
       "  }\n",
       "\n",
       "  .colab-df-spinner {\n",
       "    border: 2px solid var(--fill-color);\n",
       "    border-color: transparent;\n",
       "    border-bottom-color: var(--fill-color);\n",
       "    animation:\n",
       "      spin 1s steps(1) infinite;\n",
       "  }\n",
       "\n",
       "  @keyframes spin {\n",
       "    0% {\n",
       "      border-color: transparent;\n",
       "      border-bottom-color: var(--fill-color);\n",
       "      border-left-color: var(--fill-color);\n",
       "    }\n",
       "    20% {\n",
       "      border-color: transparent;\n",
       "      border-left-color: var(--fill-color);\n",
       "      border-top-color: var(--fill-color);\n",
       "    }\n",
       "    30% {\n",
       "      border-color: transparent;\n",
       "      border-left-color: var(--fill-color);\n",
       "      border-top-color: var(--fill-color);\n",
       "      border-right-color: var(--fill-color);\n",
       "    }\n",
       "    40% {\n",
       "      border-color: transparent;\n",
       "      border-right-color: var(--fill-color);\n",
       "      border-top-color: var(--fill-color);\n",
       "    }\n",
       "    60% {\n",
       "      border-color: transparent;\n",
       "      border-right-color: var(--fill-color);\n",
       "    }\n",
       "    80% {\n",
       "      border-color: transparent;\n",
       "      border-right-color: var(--fill-color);\n",
       "      border-bottom-color: var(--fill-color);\n",
       "    }\n",
       "    90% {\n",
       "      border-color: transparent;\n",
       "      border-bottom-color: var(--fill-color);\n",
       "    }\n",
       "  }\n",
       "</style>\n",
       "\n",
       "  <script>\n",
       "    async function quickchart(key) {\n",
       "      const quickchartButtonEl =\n",
       "        document.querySelector('#' + key + ' button');\n",
       "      quickchartButtonEl.disabled = true;  // To prevent multiple clicks.\n",
       "      quickchartButtonEl.classList.add('colab-df-spinner');\n",
       "      try {\n",
       "        const charts = await google.colab.kernel.invokeFunction(\n",
       "            'suggestCharts', [key], {});\n",
       "      } catch (error) {\n",
       "        console.error('Error during call to suggestCharts:', error);\n",
       "      }\n",
       "      quickchartButtonEl.classList.remove('colab-df-spinner');\n",
       "      quickchartButtonEl.classList.add('colab-df-quickchart-complete');\n",
       "    }\n",
       "    (() => {\n",
       "      let quickchartButtonEl =\n",
       "        document.querySelector('#df-7cc31f27-deb0-41ed-839c-62df451e0af5 button');\n",
       "      quickchartButtonEl.style.display =\n",
       "        google.colab.kernel.accessAllowed ? 'block' : 'none';\n",
       "    })();\n",
       "  </script>\n",
       "</div>\n",
       "\n",
       "    </div>\n",
       "  </div>\n"
      ],
      "text/plain": [
       "                     class  precision_per_class  recall_per_class  \\\n",
       "0                   urgent             0.762651           0.79125   \n",
       "1  artificial intelligence             0.749340           0.71000   \n",
       "2                 computer             0.687898           0.81000   \n",
       "3                   travel             0.758344           0.71000   \n",
       "4                   animal             0.839879           0.69500   \n",
       "5                  fiction             0.705471           0.75750   \n",
       "\n",
       "   f1_per_class  \n",
       "0      0.776687  \n",
       "1      0.729140  \n",
       "2      0.743972  \n",
       "3      0.733376  \n",
       "4      0.760602  \n",
       "5      0.730561  "
      ]
     },
     "execution_count": 26,
     "metadata": {},
     "output_type": "execute_result"
    }
   ],
   "source": [
    "#Obteniendo metricas globales y por clase\n",
    "pd.DataFrame(compute_class_metrics(pred_labels, true_labels ))"
   ]
  },
  {
   "cell_type": "code",
   "execution_count": 27,
   "id": "bcbe43ac-4ae8-4288-8375-daeb78dcef50",
   "metadata": {
    "colab": {
     "base_uri": "https://localhost:8080/"
    },
    "id": "bcbe43ac-4ae8-4288-8375-daeb78dcef50",
    "outputId": "68cc979f-742b-4feb-887e-72413dde8b3a"
   },
   "outputs": [
    {
     "data": {
      "text/plain": [
       "{'accuracy': 0.745625,\n",
       " 'precision': 0.7505973587992785,\n",
       " 'recall': 0.745625,\n",
       " 'f1': 0.7457230584511514}"
      ]
     },
     "execution_count": 27,
     "metadata": {},
     "output_type": "execute_result"
    }
   ],
   "source": [
    "compute_global_metrics(pred_labels, true_labels )"
   ]
  },
  {
   "cell_type": "markdown",
   "id": "e36aca5a-1814-46b6-93a9-ede4abf69338",
   "metadata": {
    "id": "e36aca5a-1814-46b6-93a9-ede4abf69338"
   },
   "source": [
    "### Matriz de confusión"
   ]
  },
  {
   "cell_type": "code",
   "execution_count": 28,
   "id": "7c621683-d460-49a7-913a-9eccff1cc698",
   "metadata": {
    "colab": {
     "base_uri": "https://localhost:8080/",
     "height": 692
    },
    "id": "7c621683-d460-49a7-913a-9eccff1cc698",
    "outputId": "2ce029b4-3f3d-4f3f-d52b-701fc1543476"
   },
   "outputs": [
    {
     "data": {
      "image/png": "[encoded data removed]",
      "text/plain": [
       "<Figure size 800x600 with 2 Axes>"
      ]
     },
     "metadata": {},
     "output_type": "display_data"
    }
   ],
   "source": [
    "import matplotlib.pyplot as plt\n",
    "from sklearn.metrics import roc_curve, auc\n",
    "from sklearn.preprocessing import label_binarize\n",
    "import seaborn as sns\n",
    "# Calcular la matriz de confusión\n",
    "cm = confusion_matrix(true_labels, pred_labels)\n",
    "# Visualizar la matriz de confusión usando seaborn\n",
    "plt.figure(figsize=(8, 6))\n",
    "sns.heatmap(cm, annot=True, fmt=\"d\", cmap=\"Blues\", xticklabels=categories, yticklabels=categories)\n",
    "plt.title(\"Matriz de Confusión\")\n",
    "plt.xlabel(\"Predicciones\")\n",
    "plt.ylabel(\"Etiquetas verdaderas\")\n",
    "plt.show()"
   ]
  },
  {
   "cell_type": "markdown",
   "id": "de64639d-9af0-4ed9-a0c8-7ea16c149a85",
   "metadata": {
    "id": "de64639d-9af0-4ed9-a0c8-7ea16c149a85"
   },
   "source": [
    "### Curva ROC"
   ]
  },
  {
   "cell_type": "code",
   "execution_count": 29,
   "id": "5f998d42-2035-4484-b153-a5bc2db60faa",
   "metadata": {
    "colab": {
     "base_uri": "https://localhost:8080/",
     "height": 565
    },
    "id": "5f998d42-2035-4484-b153-a5bc2db60faa",
    "outputId": "2a5bfb45-69eb-4afb-b2f4-26c97ed13616"
   },
   "outputs": [
    {
     "data": {
      "image/png": "[encoded data removed]",
      "text/plain": [
       "<Figure size 800x600 with 1 Axes>"
      ]
     },
     "metadata": {},
     "output_type": "display_data"
    }
   ],
   "source": [
    "# Inicializar la figura para la curva ROC\n",
    "plt.figure(figsize=(8, 6))\n",
    "n_classes = len(categories)\n",
    "\n",
    "# Calcular la curva ROC para cada clase\n",
    "for i in range(n_classes):\n",
    "    if np.sum(true_labels == i) == 0:  # Si no hay ejemplos positivos para esta clase, la omitimos\n",
    "        print(f\"No hay ejemplos positivos para la clase {i}\")\n",
    "        continue\n",
    "\n",
    "    # Calcular la curva ROC para la clase i\n",
    "    fpr, tpr, thresholds = roc_curve(true_labels == i, pred_probas[:, i])  # Probabilidades de la clase i\n",
    "    roc_auc = auc(fpr, tpr)  # Calcular el AUC\n",
    "\n",
    "    # Graficar la curva ROC\n",
    "    plt.plot(fpr, tpr, lw=2, label=f'Clase {categories[i]} (AUC = {roc_auc:.2f})')\n",
    "\n",
    "# Graficar la línea diagonal (random classifier)\n",
    "plt.plot([0, 1], [0, 1], color='gray', lw=2, linestyle='--')\n",
    "\n",
    "# Añadir etiquetas y leyenda\n",
    "plt.xlim([0.0, 1.0])\n",
    "plt.ylim([0.0, 1.0])\n",
    "plt.xlabel('Tasa de Falsos Positivos (FPR)')\n",
    "plt.ylabel('Tasa de Verdaderos Positivos (TPR)')\n",
    "plt.title('Curvas ROC para Clasificación Multi-clase')\n",
    "plt.legend(loc=\"lower right\")\n",
    "\n",
    "# Mostrar la gráfica de las curvas ROC\n",
    "plt.show()"
   ]
  },
  {
   "cell_type": "markdown",
   "id": "41c76b84-af5e-4f74-9e58-57576bd2622b",
   "metadata": {
    "id": "05404cf9-1da6-4fcb-a206-6fb735b28d7a"
   },
   "source": [
    "# Conclusiones\n",
    "El modelo demostró un rendimiento sobresaliente en la tarea, logrando una alta capacidad de aprendizaje. Con tan solo 3 épocas de entrenamiento y 24,000 datos de ejemplo generados por GPT-2, se obtuvieron AUC superiores a 0.9.\n",
    "\n",
    "Esto resalta las capacidades de GPT-2 en la generación de datos sintéticos y las capacidades de BERT para adaptarse a nuevas tareas. Además, el enfoque utilizado para entrenar el modelo, que consistió en congelar todas las capas excepto la capa de clasificación y la última capa de BERT, demostró ser altamente eficiente y práctico."
   ]
  },
  {
   "cell_type": "code",
   "execution_count": null,
   "id": "vKVLU8ZUBJ0M",
   "metadata": {
    "id": "vKVLU8ZUBJ0M"
   },
   "outputs": [],
   "source": []
  }
 ],
 "metadata": {
  "accelerator": "GPU",
  "colab": {
   "gpuType": "T4",
   "provenance": []
  },
  "kernelspec": {
   "display_name": "Python 3 (ipykernel)",
   "language": "python",
   "name": "python3"
  },
  "language_info": {
   "codemirror_mode": {
    "name": "ipython",
    "version": 3
   },
   "file_extension": ".py",
   "mimetype": "text/x-python",
   "name": "python",
   "nbconvert_exporter": "python",
   "pygments_lexer": "ipython3",
   "version": "3.9.19"
  },
  "widgets": {
   "application/vnd.jupyter.widget-state+json": {
    "06a6075f3ca5449bbed0d1e5f79b3d52": {
     "model_module": "@jupyter-widgets/base",
     "model_module_version": "1.2.0",
     "model_name": "LayoutModel",
     "state": {
      "_model_module": "@jupyter-widgets/base",
      "_model_module_version": "1.2.0",
      "_model_name": "LayoutModel",
      "_view_count": null,
      "_view_module": "@jupyter-widgets/base",
      "_view_module_version": "1.2.0",
      "_view_name": "LayoutView",
      "align_content": null,
      "align_items": null,
      "align_self": null,
      "border": null,
      "bottom": null,
      "display": null,
      "flex": null,
      "flex_flow": null,
      "grid_area": null,
      "grid_auto_columns": null,
      "grid_auto_flow": null,
      "grid_auto_rows": null,
      "grid_column": null,
      "grid_gap": null,
      "grid_row": null,
      "grid_template_areas": null,
      "grid_template_columns": null,
      "grid_template_rows": null,
      "height": null,
      "justify_content": null,
      "justify_items": null,
      "left": null,
      "margin": null,
      "max_height": null,
      "max_width": null,
      "min_height": null,
      "min_width": null,
      "object_fit": null,
      "object_position": null,
      "order": null,
      "overflow": null,
      "overflow_x": null,
      "overflow_y": null,
      "padding": null,
      "right": null,
      "top": null,
      "visibility": null,
      "width": null
     }
    },
    "20154121c4e74ff292981791d075bd74": {
     "model_module": "@jupyter-widgets/controls",
     "model_module_version": "1.5.0",
     "model_name": "DescriptionStyleModel",
     "state": {
      "_model_module": "@jupyter-widgets/controls",
      "_model_module_version": "1.5.0",
      "_model_name": "DescriptionStyleModel",
      "_view_count": null,
      "_view_module": "@jupyter-widgets/base",
      "_view_module_version": "1.2.0",
      "_view_name": "StyleView",
      "description_width": ""
     }
    },
    "257af1b401c14fb682928128c4cbeea6": {
     "model_module": "@jupyter-widgets/controls",
     "model_module_version": "1.5.0",
     "model_name": "DescriptionStyleModel",
     "state": {
      "_model_module": "@jupyter-widgets/controls",
      "_model_module_version": "1.5.0",
      "_model_name": "DescriptionStyleModel",
      "_view_count": null,
      "_view_module": "@jupyter-widgets/base",
      "_view_module_version": "1.2.0",
      "_view_name": "StyleView",
      "description_width": ""
     }
    },
    "2ad0417f007d45ba8e80db716be7f4db": {
     "model_module": "@jupyter-widgets/controls",
     "model_module_version": "1.5.0",
     "model_name": "HTMLModel",
     "state": {
      "_dom_classes": [],
      "_model_module": "@jupyter-widgets/controls",
      "_model_module_version": "1.5.0",
      "_model_name": "HTMLModel",
      "_view_count": null,
      "_view_module": "@jupyter-widgets/controls",
      "_view_module_version": "1.5.0",
      "_view_name": "HTMLView",
      "description": "",
      "description_tooltip": null,
      "layout": "IPY_MODEL_dc805a7a606d49b4b20ae249e47d360a",
      "placeholder": "​",
      "style": "IPY_MODEL_cf23d10515f94d49a57874063524e130",
      "value": " 24000/24000 [00:00&lt;00:00, 233125.36 examples/s]"
     }
    },
    "329b92b9f4b4462d975a6a3afe3cdec4": {
     "model_module": "@jupyter-widgets/controls",
     "model_module_version": "1.5.0",
     "model_name": "HBoxModel",
     "state": {
      "_dom_classes": [],
      "_model_module": "@jupyter-widgets/controls",
      "_model_module_version": "1.5.0",
      "_model_name": "HBoxModel",
      "_view_count": null,
      "_view_module": "@jupyter-widgets/controls",
      "_view_module_version": "1.5.0",
      "_view_name": "HBoxView",
      "box_style": "",
      "children": [
       "IPY_MODEL_f6356ff73ab547969fa80293238b9699",
       "IPY_MODEL_672e073ff7c24acca833d2ad3f6c3014",
       "IPY_MODEL_591d08f747b74a9da218b85b1916179d"
      ],
      "layout": "IPY_MODEL_06a6075f3ca5449bbed0d1e5f79b3d52"
     }
    },
    "35235a493ef34f33afa9fa6cd0449416": {
     "model_module": "@jupyter-widgets/controls",
     "model_module_version": "1.5.0",
     "model_name": "DescriptionStyleModel",
     "state": {
      "_model_module": "@jupyter-widgets/controls",
      "_model_module_version": "1.5.0",
      "_model_name": "DescriptionStyleModel",
      "_view_count": null,
      "_view_module": "@jupyter-widgets/base",
      "_view_module_version": "1.2.0",
      "_view_name": "StyleView",
      "description_width": ""
     }
    },
    "43c4c6727af441eda4c72f8450487fa7": {
     "model_module": "@jupyter-widgets/base",
     "model_module_version": "1.2.0",
     "model_name": "LayoutModel",
     "state": {
      "_model_module": "@jupyter-widgets/base",
      "_model_module_version": "1.2.0",
      "_model_name": "LayoutModel",
      "_view_count": null,
      "_view_module": "@jupyter-widgets/base",
      "_view_module_version": "1.2.0",
      "_view_name": "LayoutView",
      "align_content": null,
      "align_items": null,
      "align_self": null,
      "border": null,
      "bottom": null,
      "display": null,
      "flex": null,
      "flex_flow": null,
      "grid_area": null,
      "grid_auto_columns": null,
      "grid_auto_flow": null,
      "grid_auto_rows": null,
      "grid_column": null,
      "grid_gap": null,
      "grid_row": null,
      "grid_template_areas": null,
      "grid_template_columns": null,
      "grid_template_rows": null,
      "height": null,
      "justify_content": null,
      "justify_items": null,
      "left": null,
      "margin": null,
      "max_height": null,
      "max_width": null,
      "min_height": null,
      "min_width": null,
      "object_fit": null,
      "object_position": null,
      "order": null,
      "overflow": null,
      "overflow_x": null,
      "overflow_y": null,
      "padding": null,
      "right": null,
      "top": null,
      "visibility": null,
      "width": null
     }
    },
    "591d08f747b74a9da218b85b1916179d": {
     "model_module": "@jupyter-widgets/controls",
     "model_module_version": "1.5.0",
     "model_name": "HTMLModel",
     "state": {
      "_dom_classes": [],
      "_model_module": "@jupyter-widgets/controls",
      "_model_module_version": "1.5.0",
      "_model_name": "HTMLModel",
      "_view_count": null,
      "_view_module": "@jupyter-widgets/controls",
      "_view_module_version": "1.5.0",
      "_view_name": "HTMLView",
      "description": "",
      "description_tooltip": null,
      "layout": "IPY_MODEL_b08c5a88c12346c6ba706c8d35122ac5",
      "placeholder": "​",
      "style": "IPY_MODEL_20154121c4e74ff292981791d075bd74",
      "value": " 24000/24000 [00:37&lt;00:00, 1213.92 examples/s]"
     }
    },
    "5d03857e711347859f7fa8d5cb434390": {
     "model_module": "@jupyter-widgets/controls",
     "model_module_version": "1.5.0",
     "model_name": "HBoxModel",
     "state": {
      "_dom_classes": [],
      "_model_module": "@jupyter-widgets/controls",
      "_model_module_version": "1.5.0",
      "_model_name": "HBoxModel",
      "_view_count": null,
      "_view_module": "@jupyter-widgets/controls",
      "_view_module_version": "1.5.0",
      "_view_name": "HBoxView",
      "box_style": "",
      "children": [
       "IPY_MODEL_88338dab3b4c4c389ae272b021ca2913",
       "IPY_MODEL_87549e3f22ff4e49ae0756a643eb4168",
       "IPY_MODEL_2ad0417f007d45ba8e80db716be7f4db"
      ],
      "layout": "IPY_MODEL_d5d51cd1b29e41309b0aac933ad5e467"
     }
    },
    "672e073ff7c24acca833d2ad3f6c3014": {
     "model_module": "@jupyter-widgets/controls",
     "model_module_version": "1.5.0",
     "model_name": "FloatProgressModel",
     "state": {
      "_dom_classes": [],
      "_model_module": "@jupyter-widgets/controls",
      "_model_module_version": "1.5.0",
      "_model_name": "FloatProgressModel",
      "_view_count": null,
      "_view_module": "@jupyter-widgets/controls",
      "_view_module_version": "1.5.0",
      "_view_name": "ProgressView",
      "bar_style": "success",
      "description": "",
      "description_tooltip": null,
      "layout": "IPY_MODEL_43c4c6727af441eda4c72f8450487fa7",
      "max": 24000,
      "min": 0,
      "orientation": "horizontal",
      "style": "IPY_MODEL_aaf737b787214366ab779b28aeb458f6",
      "value": 24000
     }
    },
    "87549e3f22ff4e49ae0756a643eb4168": {
     "model_module": "@jupyter-widgets/controls",
     "model_module_version": "1.5.0",
     "model_name": "FloatProgressModel",
     "state": {
      "_dom_classes": [],
      "_model_module": "@jupyter-widgets/controls",
      "_model_module_version": "1.5.0",
      "_model_name": "FloatProgressModel",
      "_view_count": null,
      "_view_module": "@jupyter-widgets/controls",
      "_view_module_version": "1.5.0",
      "_view_name": "ProgressView",
      "bar_style": "success",
      "description": "",
      "description_tooltip": null,
      "layout": "IPY_MODEL_88342c28ce8549a0ad9a37e09944e16a",
      "max": 24000,
      "min": 0,
      "orientation": "horizontal",
      "style": "IPY_MODEL_8ed90c84c2c74f71b6baa5f48c2c85dc",
      "value": 24000
     }
    },
    "88338dab3b4c4c389ae272b021ca2913": {
     "model_module": "@jupyter-widgets/controls",
     "model_module_version": "1.5.0",
     "model_name": "HTMLModel",
     "state": {
      "_dom_classes": [],
      "_model_module": "@jupyter-widgets/controls",
      "_model_module_version": "1.5.0",
      "_model_name": "HTMLModel",
      "_view_count": null,
      "_view_module": "@jupyter-widgets/controls",
      "_view_module_version": "1.5.0",
      "_view_name": "HTMLView",
      "description": "",
      "description_tooltip": null,
      "layout": "IPY_MODEL_cf34e75156bd47bd8f915f16782aa048",
      "placeholder": "​",
      "style": "IPY_MODEL_35235a493ef34f33afa9fa6cd0449416",
      "value": "Casting the dataset: 100%"
     }
    },
    "88342c28ce8549a0ad9a37e09944e16a": {
     "model_module": "@jupyter-widgets/base",
     "model_module_version": "1.2.0",
     "model_name": "LayoutModel",
     "state": {
      "_model_module": "@jupyter-widgets/base",
      "_model_module_version": "1.2.0",
      "_model_name": "LayoutModel",
      "_view_count": null,
      "_view_module": "@jupyter-widgets/base",
      "_view_module_version": "1.2.0",
      "_view_name": "LayoutView",
      "align_content": null,
      "align_items": null,
      "align_self": null,
      "border": null,
      "bottom": null,
      "display": null,
      "flex": null,
      "flex_flow": null,
      "grid_area": null,
      "grid_auto_columns": null,
      "grid_auto_flow": null,
      "grid_auto_rows": null,
      "grid_column": null,
      "grid_gap": null,
      "grid_row": null,
      "grid_template_areas": null,
      "grid_template_columns": null,
      "grid_template_rows": null,
      "height": null,
      "justify_content": null,
      "justify_items": null,
      "left": null,
      "margin": null,
      "max_height": null,
      "max_width": null,
      "min_height": null,
      "min_width": null,
      "object_fit": null,
      "object_position": null,
      "order": null,
      "overflow": null,
      "overflow_x": null,
      "overflow_y": null,
      "padding": null,
      "right": null,
      "top": null,
      "visibility": null,
      "width": null
     }
    },
    "8ed90c84c2c74f71b6baa5f48c2c85dc": {
     "model_module": "@jupyter-widgets/controls",
     "model_module_version": "1.5.0",
     "model_name": "ProgressStyleModel",
     "state": {
      "_model_module": "@jupyter-widgets/controls",
      "_model_module_version": "1.5.0",
      "_model_name": "ProgressStyleModel",
      "_view_count": null,
      "_view_module": "@jupyter-widgets/base",
      "_view_module_version": "1.2.0",
      "_view_name": "StyleView",
      "bar_color": null,
      "description_width": ""
     }
    },
    "98ef90d9f4164e328b44a985a138623b": {
     "model_module": "@jupyter-widgets/base",
     "model_module_version": "1.2.0",
     "model_name": "LayoutModel",
     "state": {
      "_model_module": "@jupyter-widgets/base",
      "_model_module_version": "1.2.0",
      "_model_name": "LayoutModel",
      "_view_count": null,
      "_view_module": "@jupyter-widgets/base",
      "_view_module_version": "1.2.0",
      "_view_name": "LayoutView",
      "align_content": null,
      "align_items": null,
      "align_self": null,
      "border": null,
      "bottom": null,
      "display": null,
      "flex": null,
      "flex_flow": null,
      "grid_area": null,
      "grid_auto_columns": null,
      "grid_auto_flow": null,
      "grid_auto_rows": null,
      "grid_column": null,
      "grid_gap": null,
      "grid_row": null,
      "grid_template_areas": null,
      "grid_template_columns": null,
      "grid_template_rows": null,
      "height": null,
      "justify_content": null,
      "justify_items": null,
      "left": null,
      "margin": null,
      "max_height": null,
      "max_width": null,
      "min_height": null,
      "min_width": null,
      "object_fit": null,
      "object_position": null,
      "order": null,
      "overflow": null,
      "overflow_x": null,
      "overflow_y": null,
      "padding": null,
      "right": null,
      "top": null,
      "visibility": null,
      "width": null
     }
    },
    "aaf737b787214366ab779b28aeb458f6": {
     "model_module": "@jupyter-widgets/controls",
     "model_module_version": "1.5.0",
     "model_name": "ProgressStyleModel",
     "state": {
      "_model_module": "@jupyter-widgets/controls",
      "_model_module_version": "1.5.0",
      "_model_name": "ProgressStyleModel",
      "_view_count": null,
      "_view_module": "@jupyter-widgets/base",
      "_view_module_version": "1.2.0",
      "_view_name": "StyleView",
      "bar_color": null,
      "description_width": ""
     }
    },
    "b08c5a88c12346c6ba706c8d35122ac5": {
     "model_module": "@jupyter-widgets/base",
     "model_module_version": "1.2.0",
     "model_name": "LayoutModel",
     "state": {
      "_model_module": "@jupyter-widgets/base",
      "_model_module_version": "1.2.0",
      "_model_name": "LayoutModel",
      "_view_count": null,
      "_view_module": "@jupyter-widgets/base",
      "_view_module_version": "1.2.0",
      "_view_name": "LayoutView",
      "align_content": null,
      "align_items": null,
      "align_self": null,
      "border": null,
      "bottom": null,
      "display": null,
      "flex": null,
      "flex_flow": null,
      "grid_area": null,
      "grid_auto_columns": null,
      "grid_auto_flow": null,
      "grid_auto_rows": null,
      "grid_column": null,
      "grid_gap": null,
      "grid_row": null,
      "grid_template_areas": null,
      "grid_template_columns": null,
      "grid_template_rows": null,
      "height": null,
      "justify_content": null,
      "justify_items": null,
      "left": null,
      "margin": null,
      "max_height": null,
      "max_width": null,
      "min_height": null,
      "min_width": null,
      "object_fit": null,
      "object_position": null,
      "order": null,
      "overflow": null,
      "overflow_x": null,
      "overflow_y": null,
      "padding": null,
      "right": null,
      "top": null,
      "visibility": null,
      "width": null
     }
    },
    "cf23d10515f94d49a57874063524e130": {
     "model_module": "@jupyter-widgets/controls",
     "model_module_version": "1.5.0",
     "model_name": "DescriptionStyleModel",
     "state": {
      "_model_module": "@jupyter-widgets/controls",
      "_model_module_version": "1.5.0",
      "_model_name": "DescriptionStyleModel",
      "_view_count": null,
      "_view_module": "@jupyter-widgets/base",
      "_view_module_version": "1.2.0",
      "_view_name": "StyleView",
      "description_width": ""
     }
    },
    "cf34e75156bd47bd8f915f16782aa048": {
     "model_module": "@jupyter-widgets/base",
     "model_module_version": "1.2.0",
     "model_name": "LayoutModel",
     "state": {
      "_model_module": "@jupyter-widgets/base",
      "_model_module_version": "1.2.0",
      "_model_name": "LayoutModel",
      "_view_count": null,
      "_view_module": "@jupyter-widgets/base",
      "_view_module_version": "1.2.0",
      "_view_name": "LayoutView",
      "align_content": null,
      "align_items": null,
      "align_self": null,
      "border": null,
      "bottom": null,
      "display": null,
      "flex": null,
      "flex_flow": null,
      "grid_area": null,
      "grid_auto_columns": null,
      "grid_auto_flow": null,
      "grid_auto_rows": null,
      "grid_column": null,
      "grid_gap": null,
      "grid_row": null,
      "grid_template_areas": null,
      "grid_template_columns": null,
      "grid_template_rows": null,
      "height": null,
      "justify_content": null,
      "justify_items": null,
      "left": null,
      "margin": null,
      "max_height": null,
      "max_width": null,
      "min_height": null,
      "min_width": null,
      "object_fit": null,
      "object_position": null,
      "order": null,
      "overflow": null,
      "overflow_x": null,
      "overflow_y": null,
      "padding": null,
      "right": null,
      "top": null,
      "visibility": null,
      "width": null
     }
    },
    "d5d51cd1b29e41309b0aac933ad5e467": {
     "model_module": "@jupyter-widgets/base",
     "model_module_version": "1.2.0",
     "model_name": "LayoutModel",
     "state": {
      "_model_module": "@jupyter-widgets/base",
      "_model_module_version": "1.2.0",
      "_model_name": "LayoutModel",
      "_view_count": null,
      "_view_module": "@jupyter-widgets/base",
      "_view_module_version": "1.2.0",
      "_view_name": "LayoutView",
      "align_content": null,
      "align_items": null,
      "align_self": null,
      "border": null,
      "bottom": null,
      "display": null,
      "flex": null,
      "flex_flow": null,
      "grid_area": null,
      "grid_auto_columns": null,
      "grid_auto_flow": null,
      "grid_auto_rows": null,
      "grid_column": null,
      "grid_gap": null,
      "grid_row": null,
      "grid_template_areas": null,
      "grid_template_columns": null,
      "grid_template_rows": null,
      "height": null,
      "justify_content": null,
      "justify_items": null,
      "left": null,
      "margin": null,
      "max_height": null,
      "max_width": null,
      "min_height": null,
      "min_width": null,
      "object_fit": null,
      "object_position": null,
      "order": null,
      "overflow": null,
      "overflow_x": null,
      "overflow_y": null,
      "padding": null,
      "right": null,
      "top": null,
      "visibility": null,
      "width": null
     }
    },
    "dc805a7a606d49b4b20ae249e47d360a": {
     "model_module": "@jupyter-widgets/base",
     "model_module_version": "1.2.0",
     "model_name": "LayoutModel",
     "state": {
      "_model_module": "@jupyter-widgets/base",
      "_model_module_version": "1.2.0",
      "_model_name": "LayoutModel",
      "_view_count": null,
      "_view_module": "@jupyter-widgets/base",
      "_view_module_version": "1.2.0",
      "_view_name": "LayoutView",
      "align_content": null,
      "align_items": null,
      "align_self": null,
      "border": null,
      "bottom": null,
      "display": null,
      "flex": null,
      "flex_flow": null,
      "grid_area": null,
      "grid_auto_columns": null,
      "grid_auto_flow": null,
      "grid_auto_rows": null,
      "grid_column": null,
      "grid_gap": null,
      "grid_row": null,
      "grid_template_areas": null,
      "grid_template_columns": null,
      "grid_template_rows": null,
      "height": null,
      "justify_content": null,
      "justify_items": null,
      "left": null,
      "margin": null,
      "max_height": null,
      "max_width": null,
      "min_height": null,
      "min_width": null,
      "object_fit": null,
      "object_position": null,
      "order": null,
      "overflow": null,
      "overflow_x": null,
      "overflow_y": null,
      "padding": null,
      "right": null,
      "top": null,
      "visibility": null,
      "width": null
     }
    },
    "f6356ff73ab547969fa80293238b9699": {
     "model_module": "@jupyter-widgets/controls",
     "model_module_version": "1.5.0",
     "model_name": "HTMLModel",
     "state": {
      "_dom_classes": [],
      "_model_module": "@jupyter-widgets/controls",
      "_model_module_version": "1.5.0",
      "_model_name": "HTMLModel",
      "_view_count": null,
      "_view_module": "@jupyter-widgets/controls",
      "_view_module_version": "1.5.0",
      "_view_name": "HTMLView",
      "description": "",
      "description_tooltip": null,
      "layout": "IPY_MODEL_98ef90d9f4164e328b44a985a138623b",
      "placeholder": "​",
      "style": "IPY_MODEL_257af1b401c14fb682928128c4cbeea6",
      "value": "Map: 100%"
     }
    }
   }
  }
 },
 "nbformat": 4,
 "nbformat_minor": 5
}
