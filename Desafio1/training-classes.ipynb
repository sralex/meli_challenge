{
 "cells": [
  {
   "cell_type": "markdown",
   "id": "5fb7c245-b337-4e38-9b06-f2b663c5b319",
   "metadata": {},
   "source": [
    "# Introducción\n",
    "La solución propuesta consistió en entrenar un modelo de clasificación basado en BERT para predecir seis etiquetas distintas: 'urgent', 'artificial intelligence', 'computer', 'travel', 'animal' y 'fiction'. Los datos utilizados para entrenar el modelo fueron generados a partir de GPT-2.\n",
    "\n",
    "Para replicar este proceso, no es indispensable volver a ejecutar GPT-2, ya que el archivo gpt2_database_4k.parquet ya contiene la base de datos generada, con 4,000 ejemplos por clase. Si aún se desea generar nuevos datos, se puede ejecutar el notebook generate_data, que emplea GPT-2 para crear la base de datos.\n",
    "\n",
    "Este notebook se probó entrenar el modelo completo sin congelar pesos."
   ]
  },
  {
   "cell_type": "code",
   "execution_count": 1,
   "id": "22600ae4-d3b2-45db-9aba-9f6e1403abda",
   "metadata": {},
   "outputs": [],
   "source": [
    "import pandas as pd\n",
    "from datasets import Dataset, ClassLabel\n",
    "from transformers import BertTokenizer\n",
    "from datasets import DatasetDict\n",
    "from transformers import BertTokenizer, BertForSequenceClassification, Trainer, TrainingArguments, TrainerCallback, EarlyStoppingCallback\n",
    "import torch\n",
    "import numpy as np\n",
    "from sklearn.metrics import accuracy_score, precision_score, recall_score, f1_score, confusion_matrix\n"
   ]
  },
  {
   "cell_type": "code",
   "execution_count": 2,
   "id": "54f43e5b-ffc0-4e85-95b7-717a3ff38850",
   "metadata": {},
   "outputs": [
    {
     "name": "stdout",
     "output_type": "stream",
     "text": [
      "Using device: cuda\n"
     ]
    }
   ],
   "source": [
    "# Verificar si hay una GPU disponible\n",
    "device = torch.device(\"cuda\" if torch.cuda.is_available() else \"cpu\")\n",
    "print(f\"Using device: {device}\")"
   ]
  },
  {
   "cell_type": "markdown",
   "id": "36c57bfc-0514-4d42-b00d-44a225b5fc63",
   "metadata": {},
   "source": [
    "## Carga y preparación de datos"
   ]
  },
  {
   "cell_type": "code",
   "execution_count": 3,
   "id": "8a15e6eb-1b55-4ae2-8a2b-2ef82a8de55b",
   "metadata": {},
   "outputs": [
    {
     "data": {
      "text/html": [
       "<div>\n",
       "<style scoped>\n",
       "    .dataframe tbody tr th:only-of-type {\n",
       "        vertical-align: middle;\n",
       "    }\n",
       "\n",
       "    .dataframe tbody tr th {\n",
       "        vertical-align: top;\n",
       "    }\n",
       "\n",
       "    .dataframe thead th {\n",
       "        text-align: right;\n",
       "    }\n",
       "</style>\n",
       "<table border=\"1\" class=\"dataframe\">\n",
       "  <thead>\n",
       "    <tr style=\"text-align: right;\">\n",
       "      <th></th>\n",
       "      <th>text</th>\n",
       "      <th>label</th>\n",
       "    </tr>\n",
       "  </thead>\n",
       "  <tbody>\n",
       "    <tr>\n",
       "      <th>0</th>\n",
       "      <td>What are the first two sentences?\\n\\n\"In the m...</td>\n",
       "      <td>urgent</td>\n",
       "    </tr>\n",
       "    <tr>\n",
       "      <th>1</th>\n",
       "      <td>To read it aloud, try to figure out what the r...</td>\n",
       "      <td>urgent</td>\n",
       "    </tr>\n",
       "    <tr>\n",
       "      <th>2</th>\n",
       "      <td>It will do well in class.\\n\\nAnd there are a c...</td>\n",
       "      <td>urgent</td>\n",
       "    </tr>\n",
       "    <tr>\n",
       "      <th>3</th>\n",
       "      <td>Or if you want to send a word, simply type the...</td>\n",
       "      <td>urgent</td>\n",
       "    </tr>\n",
       "    <tr>\n",
       "      <th>4</th>\n",
       "      <td>The last two steps here might be pretty obviou...</td>\n",
       "      <td>urgent</td>\n",
       "    </tr>\n",
       "    <tr>\n",
       "      <th>...</th>\n",
       "      <td>...</td>\n",
       "      <td>...</td>\n",
       "    </tr>\n",
       "    <tr>\n",
       "      <th>23995</th>\n",
       "      <td>A sentence from a novel can either be classifi...</td>\n",
       "      <td>fiction</td>\n",
       "    </tr>\n",
       "    <tr>\n",
       "      <th>23996</th>\n",
       "      <td>A good story to write a story about when you a...</td>\n",
       "      <td>fiction</td>\n",
       "    </tr>\n",
       "    <tr>\n",
       "      <th>23997</th>\n",
       "      <td>A sentence containing either a quotation marks...</td>\n",
       "      <td>fiction</td>\n",
       "    </tr>\n",
       "    <tr>\n",
       "      <th>23998</th>\n",
       "      <td>This means that you need to make sure that the...</td>\n",
       "      <td>fiction</td>\n",
       "    </tr>\n",
       "    <tr>\n",
       "      <th>23999</th>\n",
       "      <td>For example, when someone tells a story about ...</td>\n",
       "      <td>fiction</td>\n",
       "    </tr>\n",
       "  </tbody>\n",
       "</table>\n",
       "<p>24000 rows × 2 columns</p>\n",
       "</div>"
      ],
      "text/plain": [
       "                                                    text    label\n",
       "0      What are the first two sentences?\\n\\n\"In the m...   urgent\n",
       "1      To read it aloud, try to figure out what the r...   urgent\n",
       "2      It will do well in class.\\n\\nAnd there are a c...   urgent\n",
       "3      Or if you want to send a word, simply type the...   urgent\n",
       "4      The last two steps here might be pretty obviou...   urgent\n",
       "...                                                  ...      ...\n",
       "23995  A sentence from a novel can either be classifi...  fiction\n",
       "23996  A good story to write a story about when you a...  fiction\n",
       "23997  A sentence containing either a quotation marks...  fiction\n",
       "23998  This means that you need to make sure that the...  fiction\n",
       "23999  For example, when someone tells a story about ...  fiction\n",
       "\n",
       "[24000 rows x 2 columns]"
      ]
     },
     "execution_count": 3,
     "metadata": {},
     "output_type": "execute_result"
    }
   ],
   "source": [
    "# Cargar el archivo Parquet generado previamente\n",
    "df = pd.read_parquet(\"gpt2_database_4k.parquet\")  \n",
    "df"
   ]
  },
  {
   "cell_type": "code",
   "execution_count": 4,
   "id": "0f497230-9aea-45aa-b0c5-0f1f7d35fa2e",
   "metadata": {},
   "outputs": [
    {
     "data": {
      "text/plain": [
       "label\n",
       "urgent                     4000\n",
       "artificial intelligence    4000\n",
       "computer                   4000\n",
       "travel                     4000\n",
       "animal                     4000\n",
       "fiction                    4000\n",
       "Name: count, dtype: int64"
      ]
     },
     "execution_count": 4,
     "metadata": {},
     "output_type": "execute_result"
    }
   ],
   "source": [
    "# Verificamos cantidad de labels\n",
    "df[\"label\"].value_counts()"
   ]
  },
  {
   "cell_type": "code",
   "execution_count": 5,
   "id": "c4ca4780-38a4-4570-841b-cd4571b4b99f",
   "metadata": {},
   "outputs": [
    {
     "name": "stdout",
     "output_type": "stream",
     "text": [
      "{'urgent': 0, 'artificial intelligence': 1, 'computer': 2, 'travel': 3, 'animal': 4, 'fiction': 5}\n"
     ]
    }
   ],
   "source": [
    "# mapeando categorias a números\n",
    "categories = ['urgent', 'artificial intelligence', 'computer', 'travel', 'animal', 'fiction']\n",
    "label_mapping = { k: i for i,k in enumerate(categories)}\n",
    "print(label_mapping)"
   ]
  },
  {
   "cell_type": "code",
   "execution_count": 6,
   "id": "416906b8-7635-4871-ba24-e9db081c8fd3",
   "metadata": {},
   "outputs": [
    {
     "name": "stderr",
     "output_type": "stream",
     "text": [
      "/tmp/ipykernel_1260075/3943158983.py:5: DeprecationWarning: DataFrameGroupBy.apply operated on the grouping columns. This behavior is deprecated, and in a future version of pandas the grouping columns will be excluded from the operation. Either pass `include_groups=False` to exclude the groupings or explicitly select the grouping columns after groupby to silence this warning.\n",
      "  df_filtered = df.groupby('label', group_keys=False).apply(\n"
     ]
    }
   ],
   "source": [
    "# Submuestrear (undersample) para cada categoría, limitando a un máximo de n registros por categoría\n",
    "max_records = 4000\n",
    "\n",
    "# Realizamos el submuestreo por categoría utilizando groupby y apply\n",
    "df_filtered = df.groupby('label', group_keys=False).apply(\n",
    "    lambda x: x.sample(n=min(max_records, len(x)), random_state=42)  # Aquí se asegura la reproducibilidad\n",
    ").reset_index(drop=True)"
   ]
  },
  {
   "cell_type": "code",
   "execution_count": 7,
   "id": "dccd1359-aded-498b-a151-c1c88740ebcf",
   "metadata": {},
   "outputs": [
    {
     "data": {
      "text/plain": [
       "label\n",
       "animal                     4000\n",
       "artificial intelligence    4000\n",
       "computer                   4000\n",
       "fiction                    4000\n",
       "travel                     4000\n",
       "urgent                     4000\n",
       "Name: count, dtype: int64"
      ]
     },
     "execution_count": 7,
     "metadata": {},
     "output_type": "execute_result"
    }
   ],
   "source": [
    "# Verificamos cantidad de labels en caso de muestreo\n",
    "df_filtered[\"label\"].value_counts()"
   ]
  },
  {
   "cell_type": "code",
   "execution_count": 8,
   "id": "ab18a55c-17c2-4d75-a747-0a6d09ef071e",
   "metadata": {},
   "outputs": [
    {
     "data": {
      "text/html": [
       "<div>\n",
       "<style scoped>\n",
       "    .dataframe tbody tr th:only-of-type {\n",
       "        vertical-align: middle;\n",
       "    }\n",
       "\n",
       "    .dataframe tbody tr th {\n",
       "        vertical-align: top;\n",
       "    }\n",
       "\n",
       "    .dataframe thead th {\n",
       "        text-align: right;\n",
       "    }\n",
       "</style>\n",
       "<table border=\"1\" class=\"dataframe\">\n",
       "  <thead>\n",
       "    <tr style=\"text-align: right;\">\n",
       "      <th></th>\n",
       "      <th>text</th>\n",
       "      <th>labels</th>\n",
       "    </tr>\n",
       "  </thead>\n",
       "  <tbody>\n",
       "    <tr>\n",
       "      <th>0</th>\n",
       "      <td>In the end, you'll be able to find a lot of in...</td>\n",
       "      <td>4</td>\n",
       "    </tr>\n",
       "    <tr>\n",
       "      <th>1</th>\n",
       "      <td>You can now specify the number of animals you ...</td>\n",
       "      <td>4</td>\n",
       "    </tr>\n",
       "    <tr>\n",
       "      <th>2</th>\n",
       "      <td>Take a word that could mean something like \"I ...</td>\n",
       "      <td>4</td>\n",
       "    </tr>\n",
       "    <tr>\n",
       "      <th>3</th>\n",
       "      <td>For example, I like using this to mean 'animal...</td>\n",
       "      <td>4</td>\n",
       "    </tr>\n",
       "    <tr>\n",
       "      <th>4</th>\n",
       "      <td>The term is useful in cases where you have thr...</td>\n",
       "      <td>4</td>\n",
       "    </tr>\n",
       "    <tr>\n",
       "      <th>...</th>\n",
       "      <td>...</td>\n",
       "      <td>...</td>\n",
       "    </tr>\n",
       "    <tr>\n",
       "      <th>23995</th>\n",
       "      <td>\"I've been in trouble with authorities for the...</td>\n",
       "      <td>0</td>\n",
       "    </tr>\n",
       "    <tr>\n",
       "      <th>23996</th>\n",
       "      <td>Write a story with that sort of thoughtfulness...</td>\n",
       "      <td>0</td>\n",
       "    </tr>\n",
       "    <tr>\n",
       "      <th>23997</th>\n",
       "      <td>Do I need to get a response? No, thank you. I ...</td>\n",
       "      <td>0</td>\n",
       "    </tr>\n",
       "    <tr>\n",
       "      <th>23998</th>\n",
       "      <td>But I know you will look for it. Because we bo...</td>\n",
       "      <td>0</td>\n",
       "    </tr>\n",
       "    <tr>\n",
       "      <th>23999</th>\n",
       "      <td>Try to answer the question that says \"Do you k...</td>\n",
       "      <td>0</td>\n",
       "    </tr>\n",
       "  </tbody>\n",
       "</table>\n",
       "<p>24000 rows × 2 columns</p>\n",
       "</div>"
      ],
      "text/plain": [
       "                                                    text  labels\n",
       "0      In the end, you'll be able to find a lot of in...       4\n",
       "1      You can now specify the number of animals you ...       4\n",
       "2      Take a word that could mean something like \"I ...       4\n",
       "3      For example, I like using this to mean 'animal...       4\n",
       "4      The term is useful in cases where you have thr...       4\n",
       "...                                                  ...     ...\n",
       "23995  \"I've been in trouble with authorities for the...       0\n",
       "23996  Write a story with that sort of thoughtfulness...       0\n",
       "23997  Do I need to get a response? No, thank you. I ...       0\n",
       "23998  But I know you will look for it. Because we bo...       0\n",
       "23999  Try to answer the question that says \"Do you k...       0\n",
       "\n",
       "[24000 rows x 2 columns]"
      ]
     },
     "metadata": {},
     "output_type": "display_data"
    }
   ],
   "source": [
    "# Asignamos la etiqueta numérica correspondiente\n",
    "df_filtered['labels'] = df_filtered['label'].map(label_mapping)\n",
    "\n",
    "# Verifica que las columnas necesarias estén bien formateadas\n",
    "display(df_filtered[['text', 'labels']])"
   ]
  },
  {
   "cell_type": "code",
   "execution_count": 9,
   "id": "2371a4b8-8981-4efb-bade-015c058fd406",
   "metadata": {},
   "outputs": [
    {
     "data": {
      "application/vnd.jupyter.widget-view+json": {
       "model_id": "61645e43ba68498990c546b205749536",
       "version_major": 2,
       "version_minor": 0
      },
      "text/plain": [
       "Casting the dataset:   0%|          | 0/24000 [00:00<?, ? examples/s]"
      ]
     },
     "metadata": {},
     "output_type": "display_data"
    },
    {
     "data": {
      "application/vnd.jupyter.widget-view+json": {
       "model_id": "100592b240a34b5dbab4f32171cf38ba",
       "version_major": 2,
       "version_minor": 0
      },
      "text/plain": [
       "Map:   0%|          | 0/24000 [00:00<?, ? examples/s]"
      ]
     },
     "metadata": {},
     "output_type": "display_data"
    },
    {
     "name": "stdout",
     "output_type": "stream",
     "text": [
      "Training dataset size: 19200\n",
      "Validation dataset size: 4800\n"
     ]
    }
   ],
   "source": [
    "# Convertimos el dataframe a un dataset de Hugging Face\n",
    "dataset = Dataset.from_pandas(df_filtered[['text', 'labels']])\n",
    "dataset = dataset.cast_column('labels', ClassLabel(num_classes=len(categories), names=categories))\n",
    "\n",
    "# Tokenización usando BERT\n",
    "tokenizer = BertTokenizer.from_pretrained(\"bert-base-uncased\")\n",
    "\n",
    "def tokenize_function(examples):\n",
    "    return tokenizer(examples['text'], padding=\"max_length\", truncation=True)\n",
    "\n",
    "tokenized_datasets = dataset.map(tokenize_function, batched=True)\n",
    "\n",
    "# Usamos el método `train_test_split` de Hugging Face que funciona con su Dataset.\n",
    "train_dataset, valid_dataset = tokenized_datasets.train_test_split(test_size=0.2, stratify_by_column=\"labels\",  seed=42).values()\n",
    "\n",
    "# Verificamos las dimensiones de los datasets resultantes\n",
    "print(f\"Training dataset size: {len(train_dataset)}\")\n",
    "print(f\"Validation dataset size: {len(valid_dataset)}\")\n"
   ]
  },
  {
   "cell_type": "markdown",
   "id": "a5d2fdbd-f9ea-4a0f-9079-89e4108d3605",
   "metadata": {},
   "source": [
    "## Creación del modelo con BERT para fine-tuning"
   ]
  },
  {
   "cell_type": "code",
   "execution_count": 10,
   "id": "9c154eb5-3d0e-4a00-bbec-efa05419ea33",
   "metadata": {
    "scrolled": true
   },
   "outputs": [
    {
     "name": "stderr",
     "output_type": "stream",
     "text": [
      "Some weights of BertForSequenceClassification were not initialized from the model checkpoint at bert-base-uncased and are newly initialized: ['classifier.bias', 'classifier.weight']\n",
      "You should probably TRAIN this model on a down-stream task to be able to use it for predictions and inference.\n"
     ]
    },
    {
     "name": "stdout",
     "output_type": "stream",
     "text": [
      "Trainable parameters: 109486854\n"
     ]
    }
   ],
   "source": [
    "# Cargar el modelo de BERT\n",
    "model = BertForSequenceClassification.from_pretrained(\"bert-base-uncased\", num_labels=len(categories), hidden_dropout_prob=0.3)  \n",
    "model = model.to(device)\n",
    "\n",
    "print(f\"Trainable parameters: {sum(p.numel() for p in model.parameters() if p.requires_grad)}\")"
   ]
  },
  {
   "cell_type": "code",
   "execution_count": 11,
   "id": "3a1fe760-2a3a-4e01-8efc-1939f5406e6d",
   "metadata": {},
   "outputs": [],
   "source": [
    "# computar las siguientes metricas cada epoca\n",
    "def compute_metrics(p):\n",
    "    # Extraer las predicciones y etiquetas verdaderas\n",
    "    predictions, labels = p\n",
    "    predictions = np.argmax(predictions, axis=-1)  # Obtener las clases predichas\n",
    "    \n",
    "    # Calcular las métricas de interés\n",
    "    accuracy = accuracy_score(labels, predictions)\n",
    "    f1 = f1_score(labels, predictions, average='weighted')  # F1 score ponderado\n",
    "    recall = recall_score(labels, predictions, average='weighted')  # Recall ponderado\n",
    "    precision = precision_score(labels, predictions, average='weighted')  # Precision ponderada\n",
    "\n",
    "    return {\n",
    "        'accuracy': accuracy,\n",
    "        'f1': f1,\n",
    "        'recall': recall,\n",
    "        'precision': precision\n",
    "    }"
   ]
  },
  {
   "cell_type": "code",
   "execution_count": 12,
   "id": "8f6a04f0-dadb-41a8-8dec-8257aca25325",
   "metadata": {},
   "outputs": [
    {
     "name": "stderr",
     "output_type": "stream",
     "text": [
      "/home/acer-2050/.cache/pypoetry/virtualenvs/desafio1-HzSGX0Xq-py3.10/lib/python3.10/site-packages/transformers/training_args.py:1575: FutureWarning: `evaluation_strategy` is deprecated and will be removed in version 4.46 of 🤗 Transformers. Use `eval_strategy` instead\n",
      "  warnings.warn(\n"
     ]
    }
   ],
   "source": [
    "# Configuración de cada cuantos pasos hacer un logging\n",
    "batch_size = 3\n",
    "\n",
    "# Configurar los parámetros de entrenamiento\n",
    "training_args = TrainingArguments(\n",
    "    #learning_rate = 0.01,\n",
    "    output_dir=\"./results_bert\",         # Carpeta donde se guardarán los resultados\n",
    "    num_train_epochs=3,                  # Número de épocas\n",
    "    per_device_train_batch_size=batch_size,       # Tamaño del batch para el entrenamiento\n",
    "    per_device_eval_batch_size=batch_size,        # Tamaño del batch para la validación\n",
    "    warmup_steps=500,                    # Pasos de calentamiento para el optimizador\n",
    "    weight_decay=0.01,                   # Decaimiento del peso para evitar sobreajuste\n",
    "    logging_dir=\"./logs_bert\",           # Carpeta para los logs\n",
    "    evaluation_strategy=\"epoch\",         # Evaluación cada ciertos pasos\n",
    "    save_strategy=\"epoch\",               # Guardar el modelo al final de cada época\n",
    "    save_total_limit=2,                  # Mantener solo los 2 checkpoints más recientes\n",
    "    load_best_model_at_end=True,           # Cargar el mejor modelo al final del entrenamiento\n",
    "    metric_for_best_model=\"eval_loss\",     # Métrica para comparar cuál es el mejor modelo (usamos el loss)\n",
    "    greater_is_better=False,               # Dado que un valor de loss más bajo es mejor\n",
    "    #fp16=True                        # Habilitar precisión mixta (mixed precision)\n",
    ")"
   ]
  },
  {
   "cell_type": "code",
   "execution_count": 13,
   "id": "c0e70f7b-4a8c-4949-a653-1e10e148e41b",
   "metadata": {},
   "outputs": [],
   "source": [
    "# Crear el objeto Trainer\n",
    "trainer = Trainer(\n",
    "    model=model,                         # El modelo preentrenado\n",
    "    args=training_args,                  # Los argumentos de entrenamiento\n",
    "    train_dataset=train_dataset,         # El dataset de entrenamiento\n",
    "    eval_dataset=valid_dataset,          # El dataset de validación\n",
    "    compute_metrics=compute_metrics,     # Función de métricas\n",
    "    callbacks=[EarlyStoppingCallback(early_stopping_patience=3)],\n",
    ")"
   ]
  },
  {
   "cell_type": "markdown",
   "id": "076296bb-ac13-4952-9c47-c93810ac03b3",
   "metadata": {},
   "source": [
    "## Entrenamiento del modelo (fine-tuning)"
   ]
  },
  {
   "cell_type": "code",
   "execution_count": 14,
   "id": "b14a5e62-ceaa-4ad8-9f6e-1c443bdbfe56",
   "metadata": {},
   "outputs": [
    {
     "data": {
      "text/html": [
       "\n",
       "    <div>\n",
       "      \n",
       "      <progress value='19200' max='19200' style='width:300px; height:20px; vertical-align: middle;'></progress>\n",
       "      [19200/19200 2:45:50, Epoch 3/3]\n",
       "    </div>\n",
       "    <table border=\"1\" class=\"dataframe\">\n",
       "  <thead>\n",
       " <tr style=\"text-align: left;\">\n",
       "      <th>Epoch</th>\n",
       "      <th>Training Loss</th>\n",
       "      <th>Validation Loss</th>\n",
       "      <th>Accuracy</th>\n",
       "      <th>F1</th>\n",
       "      <th>Recall</th>\n",
       "      <th>Precision</th>\n",
       "    </tr>\n",
       "  </thead>\n",
       "  <tbody>\n",
       "    <tr>\n",
       "      <td>1</td>\n",
       "      <td>0.960700</td>\n",
       "      <td>0.917560</td>\n",
       "      <td>0.731250</td>\n",
       "      <td>0.730575</td>\n",
       "      <td>0.731250</td>\n",
       "      <td>0.744265</td>\n",
       "    </tr>\n",
       "    <tr>\n",
       "      <td>2</td>\n",
       "      <td>0.745600</td>\n",
       "      <td>0.969809</td>\n",
       "      <td>0.756250</td>\n",
       "      <td>0.756598</td>\n",
       "      <td>0.756250</td>\n",
       "      <td>0.761607</td>\n",
       "    </tr>\n",
       "    <tr>\n",
       "      <td>3</td>\n",
       "      <td>0.692500</td>\n",
       "      <td>1.065026</td>\n",
       "      <td>0.761667</td>\n",
       "      <td>0.761858</td>\n",
       "      <td>0.761667</td>\n",
       "      <td>0.763905</td>\n",
       "    </tr>\n",
       "  </tbody>\n",
       "</table><p>"
      ],
      "text/plain": [
       "<IPython.core.display.HTML object>"
      ]
     },
     "metadata": {},
     "output_type": "display_data"
    },
    {
     "data": {
      "text/plain": [
       "TrainOutput(global_step=19200, training_loss=0.8290276209513346, metrics={'train_runtime': 9951.1173, 'train_samples_per_second': 5.788, 'train_steps_per_second': 1.929, 'total_flos': 1.51557410783232e+16, 'train_loss': 0.8290276209513346, 'epoch': 3.0})"
      ]
     },
     "execution_count": 14,
     "metadata": {},
     "output_type": "execute_result"
    }
   ],
   "source": [
    "# Entrenar el modelo \n",
    "trainer.train()"
   ]
  },
  {
   "cell_type": "code",
   "execution_count": 15,
   "id": "9dfc8e70-2b3b-4ae0-9e75-561cebeed7c8",
   "metadata": {},
   "outputs": [
    {
     "data": {
      "text/plain": [
       "('./bert_model/tokenizer_config.json',\n",
       " './bert_model/special_tokens_map.json',\n",
       " './bert_model/vocab.txt',\n",
       " './bert_model/added_tokens.json')"
      ]
     },
     "execution_count": 15,
     "metadata": {},
     "output_type": "execute_result"
    }
   ],
   "source": [
    "# Guardar el modelo y el tokenizador\n",
    "model.save_pretrained(\"./bert_model\")\n",
    "tokenizer.save_pretrained(\"./bert_model\")"
   ]
  },
  {
   "cell_type": "markdown",
   "id": "2b074186-5ae8-4b9d-b154-cb79d52d08fd",
   "metadata": {},
   "source": [
    "## Resultados y evaluaciones"
   ]
  },
  {
   "cell_type": "code",
   "execution_count": 16,
   "id": "116a7dfd-8648-4987-b199-c2f10a0f3cf5",
   "metadata": {},
   "outputs": [
    {
     "data": {
      "text/html": [],
      "text/plain": [
       "<IPython.core.display.HTML object>"
      ]
     },
     "metadata": {},
     "output_type": "display_data"
    },
    {
     "data": {
      "text/plain": [
       "{'eval_loss': 0.9175595045089722,\n",
       " 'eval_accuracy': 0.73125,\n",
       " 'eval_f1': 0.7305753463069088,\n",
       " 'eval_recall': 0.73125,\n",
       " 'eval_precision': 0.7442647944668324,\n",
       " 'eval_runtime': 224.4898,\n",
       " 'eval_samples_per_second': 21.382,\n",
       " 'eval_steps_per_second': 7.127,\n",
       " 'epoch': 3.0}"
      ]
     },
     "execution_count": 16,
     "metadata": {},
     "output_type": "execute_result"
    }
   ],
   "source": [
    "# Evaluar el modelo en el conjunto de validación\n",
    "trainer.evaluate()"
   ]
  },
  {
   "cell_type": "code",
   "execution_count": 17,
   "id": "3a0021c8-226e-4bb2-b184-f2c65b28f8af",
   "metadata": {},
   "outputs": [],
   "source": [
    "import torch.nn.functional as F\n",
    "\n",
    "def predict(text):\n",
    "    # Tokenizar y mover los datos a la misma ubicación del modelo\n",
    "    inputs = tokenizer(text, return_tensors=\"pt\", padding=True, truncation=True, max_length=512)\n",
    "    inputs = {key: value.to(device) for key, value in inputs.items()}  # Mover los tensores al dispositivo\n",
    "    \n",
    "    # Realizar la predicción\n",
    "    with torch.no_grad():  # Desactivar el cálculo de gradientes (no es necesario para la inferencia)\n",
    "        outputs = model(**inputs)\n",
    "    \n",
    "    logits = outputs.logits\n",
    "    \n",
    "    # Aplicar softmax a los logits para obtener probabilidades\n",
    "    probabilities = F.softmax(logits, dim=-1)\n",
    "    \n",
    "    # Obtener la clase con la mayor probabilidad\n",
    "    predicted_class_id = torch.argmax(probabilities, dim=-1).item()  # Clase con la mayor probabilidad\n",
    "    \n",
    "    # Devolver la clase predicha y las probabilidades de cada clase\n",
    "    return predicted_class_id, probabilities.squeeze().cpu().numpy()  # `squeeze()` elimina dimensiones innecesarias\n",
    "\n",
    "def predict_text(text):\n",
    "    prediction, proba = predict(text)\n",
    "    print(f\"Predicción: {categories[prediction]}\")\n",
    "    print(f\"Probabilidad: {proba[prediction]}\")\n",
    "    print(f\"Lista de probabilidades {proba}\")\n",
    "\n"
   ]
  },
  {
   "cell_type": "markdown",
   "id": "368576d8-3db3-46cb-af0c-1ff5dfc80c7f",
   "metadata": {},
   "source": [
    "### Resultados del problema"
   ]
  },
  {
   "cell_type": "code",
   "execution_count": 18,
   "id": "8bc3fef7-a9ae-4f33-abd3-0214cbd80d5b",
   "metadata": {},
   "outputs": [
    {
     "name": "stdout",
     "output_type": "stream",
     "text": [
      "Predicción: animal\n",
      "Probabilidad: 0.9821435809135437\n",
      "Lista de probabilidades [4.0735240e-04 8.9786220e-03 2.1467058e-03 1.0351904e-03 9.8214358e-01\n",
      " 5.2886349e-03]\n"
     ]
    }
   ],
   "source": [
    "predict_text(\"The axolotl is more than a peculiar amphibian; in its natural environment, it plays an essential role in the ecological stability of the Xochimilco canals.\")"
   ]
  },
  {
   "cell_type": "code",
   "execution_count": 19,
   "id": "461b4896-45bc-4de6-a9c2-4325fceb0167",
   "metadata": {},
   "outputs": [
    {
     "name": "stdout",
     "output_type": "stream",
     "text": [
      "Predicción: artificial intelligence\n",
      "Probabilidad: 0.9965954422950745\n",
      "Lista de probabilidades [9.2174753e-04 9.9659544e-01 1.2482856e-03 2.8038095e-04 3.2285714e-04\n",
      " 6.3130190e-04]\n"
     ]
    }
   ],
   "source": [
    "predict_text(\"Geoffrey Hinton, Yann LeCun and Yoshua Bengio are considered the ‘godfathers’ of an essential technique in artificial intelligence, called ‘deep learning’.\")"
   ]
  },
  {
   "cell_type": "code",
   "execution_count": 20,
   "id": "88f783bd-456d-4e55-b1ea-01ae9878e632",
   "metadata": {},
   "outputs": [
    {
     "name": "stdout",
     "output_type": "stream",
     "text": [
      "Predicción: travel\n",
      "Probabilidad: 0.9975747466087341\n",
      "Lista de probabilidades [8.0824207e-04 3.0681078e-04 3.5343086e-04 9.9757475e-01 5.4874818e-04\n",
      " 4.0797380e-04]\n"
     ]
    }
   ],
   "source": [
    "predict_text(\"Greenland is about to open up to adventure-seeking visitors. How many tourists will come is yet to be seen, but the three new airports will bring profound change.\")"
   ]
  },
  {
   "cell_type": "code",
   "execution_count": 21,
   "id": "d24f26f9-63ee-479a-915d-7b49f0c1f6ee",
   "metadata": {},
   "outputs": [
    {
     "name": "stdout",
     "output_type": "stream",
     "text": [
      "Predicción: artificial intelligence\n",
      "Probabilidad: 0.9963905215263367\n",
      "Lista de probabilidades [8.5040397e-04 9.9639052e-01 1.5637341e-03 3.1349662e-04 3.0212948e-04\n",
      " 5.7972828e-04]\n"
     ]
    }
   ],
   "source": [
    "predict_text(\"GitHub Copilot is an AI coding assistant that helps you write code faster and with less effort, allowing you to focus more energy on problem solving and collaboration.\")"
   ]
  },
  {
   "cell_type": "code",
   "execution_count": 22,
   "id": "567d0049-0bdb-42dd-8e02-54ffeb7ccd01",
   "metadata": {},
   "outputs": [
    {
     "name": "stdout",
     "output_type": "stream",
     "text": [
      "Predicción: urgent\n",
      "Probabilidad: 0.9908273816108704\n",
      "Lista de probabilidades [9.9082738e-01 2.5774857e-03 1.2317710e-03 1.7971447e-03 6.9262617e-04\n",
      " 2.8735853e-03]\n"
     ]
    }
   ],
   "source": [
    "predict_text(\"I have a problem with my laptop that needs to be resolved asap!!\")"
   ]
  },
  {
   "cell_type": "markdown",
   "id": "f81a0cea-2d0d-48bc-aea4-914848f65e0c",
   "metadata": {},
   "source": [
    "### Evaluación de resultados"
   ]
  },
  {
   "cell_type": "code",
   "execution_count": 23,
   "id": "d9ef2f89-e93a-4e52-b416-f9f857653a81",
   "metadata": {},
   "outputs": [],
   "source": [
    "\n",
    "# Función para calcular las métricas globales\n",
    "def compute_global_metrics(predictions, labels):\n",
    "    accuracy = accuracy_score(labels, predictions)\n",
    "    precision = precision_score(labels, predictions, average='weighted')  # 'weighted' para ponderar las clases\n",
    "    recall = recall_score(labels, predictions, average='weighted')\n",
    "    f1 = f1_score(labels, predictions, average='weighted')\n",
    "\n",
    "    return {\n",
    "        'accuracy': accuracy,\n",
    "        'precision': precision,\n",
    "        'recall': recall,\n",
    "        'f1': f1\n",
    "    }\n",
    "\n",
    "# Función para calcular las métricas por clase\n",
    "def compute_class_metrics(predictions, labels):\n",
    "    precision_per_class = precision_score(labels, predictions, average=None)  # Metrica por clase\n",
    "    recall_per_class = recall_score(labels, predictions, average=None)\n",
    "    f1_per_class = f1_score(labels, predictions, average=None)\n",
    "\n",
    "    # Convertir los arreglos de métricas por clase en listas\n",
    "    precision_per_class = precision_per_class.tolist()\n",
    "    recall_per_class = recall_per_class.tolist()\n",
    "    f1_per_class = f1_per_class.tolist()\n",
    "\n",
    "    return {\n",
    "        'class':categories,\n",
    "        'precision_per_class': precision_per_class,\n",
    "        'recall_per_class': recall_per_class,\n",
    "        'f1_per_class': f1_per_class\n",
    "    }"
   ]
  },
  {
   "cell_type": "code",
   "execution_count": 24,
   "id": "9cd22ee1-21e8-4ca9-9d60-61fe56024b86",
   "metadata": {
    "scrolled": true
   },
   "outputs": [],
   "source": [
    "# Realizar predicciones sobre el conjunto de validación\n",
    "predictions = trainer.predict(valid_dataset)\n",
    "\n",
    "# Obtener las predicciones y las etiquetas verdaderas\n",
    "pred_labels = np.argmax(predictions.predictions, axis=-1)  # Obtener las clases predichas\n",
    "true_labels = predictions.label_ids  # Obtener las clases verdaderas\n",
    "\n",
    "# Aplicar softmax a los logits para obtener probabilidades\n",
    "pred_probas = F.softmax(torch.tensor(predictions.predictions), dim=-1).numpy()"
   ]
  },
  {
   "cell_type": "code",
   "execution_count": 25,
   "id": "5e30cce5-6c63-42b7-9b50-e428199f77e8",
   "metadata": {},
   "outputs": [
    {
     "name": "stdout",
     "output_type": "stream",
     "text": [
      "Predicciones: [3 4 2 3 0 4 3 1 1 0]\n",
      "Etiquetas verdaderas: [0 4 2 5 0 4 3 1 1 0]\n",
      "Probabilidades: [[2.70346329e-02 4.19142842e-02 2.57219553e-01 4.34496254e-01\n",
      "  2.02621341e-01 3.67139801e-02]\n",
      " [8.72521568e-03 4.27861661e-02 1.45775052e-02 5.28298877e-02\n",
      "  7.60715902e-01 1.20365314e-01]\n",
      " [2.18074070e-04 2.53645563e-03 9.94538724e-01 1.58550404e-03\n",
      "  7.88121310e-04 3.33085656e-04]\n",
      " [6.46720827e-02 7.11756498e-02 1.31862819e-01 2.99815744e-01\n",
      "  1.52298883e-01 2.80174792e-01]\n",
      " [9.92144465e-01 2.01867707e-03 1.09511474e-03 1.68278941e-03\n",
      "  5.64780028e-04 2.49422109e-03]\n",
      " [8.77643033e-05 5.51778823e-04 2.02489246e-04 1.45985017e-04\n",
      "  9.98626590e-01 3.85421969e-04]\n",
      " [7.07354629e-04 3.02334665e-04 3.82329017e-04 9.97687459e-01\n",
      "  5.64098067e-04 3.56389879e-04]\n",
      " [4.46363632e-03 7.44917750e-01 1.90050468e-01 2.83391140e-02\n",
      "  2.04873923e-02 1.17416196e-02]\n",
      " [1.11873839e-02 7.04537630e-01 1.29484639e-01 4.99844588e-02\n",
      "  6.96410015e-02 3.51648331e-02]\n",
      " [9.89671707e-01 2.79902504e-03 1.22957374e-03 2.34965747e-03\n",
      "  7.20320095e-04 3.22964252e-03]]\n"
     ]
    }
   ],
   "source": [
    "# Imprimir las primeras 10 predicciones y sus verdaderas etiquetas\n",
    "print(f\"Predicciones: {pred_labels[:10]}\")\n",
    "print(f\"Etiquetas verdaderas: {true_labels[:10]}\")\n",
    "print(f\"Probabilidades: {pred_probas[:10]}\")"
   ]
  },
  {
   "cell_type": "markdown",
   "id": "4bf440d1-45a3-49da-9285-a373807e5385",
   "metadata": {},
   "source": [
    "### Accuracy, precision, recall y f1"
   ]
  },
  {
   "cell_type": "code",
   "execution_count": 26,
   "id": "a30eaff3-2924-47ea-9351-5aee053af9d1",
   "metadata": {},
   "outputs": [
    {
     "data": {
      "text/html": [
       "<div>\n",
       "<style scoped>\n",
       "    .dataframe tbody tr th:only-of-type {\n",
       "        vertical-align: middle;\n",
       "    }\n",
       "\n",
       "    .dataframe tbody tr th {\n",
       "        vertical-align: top;\n",
       "    }\n",
       "\n",
       "    .dataframe thead th {\n",
       "        text-align: right;\n",
       "    }\n",
       "</style>\n",
       "<table border=\"1\" class=\"dataframe\">\n",
       "  <thead>\n",
       "    <tr style=\"text-align: right;\">\n",
       "      <th></th>\n",
       "      <th>class</th>\n",
       "      <th>precision_per_class</th>\n",
       "      <th>recall_per_class</th>\n",
       "      <th>f1_per_class</th>\n",
       "    </tr>\n",
       "  </thead>\n",
       "  <tbody>\n",
       "    <tr>\n",
       "      <th>0</th>\n",
       "      <td>urgent</td>\n",
       "      <td>0.720730</td>\n",
       "      <td>0.83875</td>\n",
       "      <td>0.775274</td>\n",
       "    </tr>\n",
       "    <tr>\n",
       "      <th>1</th>\n",
       "      <td>artificial intelligence</td>\n",
       "      <td>0.826019</td>\n",
       "      <td>0.65875</td>\n",
       "      <td>0.732962</td>\n",
       "    </tr>\n",
       "    <tr>\n",
       "      <th>2</th>\n",
       "      <td>computer</td>\n",
       "      <td>0.625819</td>\n",
       "      <td>0.83625</td>\n",
       "      <td>0.715891</td>\n",
       "    </tr>\n",
       "    <tr>\n",
       "      <th>3</th>\n",
       "      <td>travel</td>\n",
       "      <td>0.703971</td>\n",
       "      <td>0.73125</td>\n",
       "      <td>0.717351</td>\n",
       "    </tr>\n",
       "    <tr>\n",
       "      <th>4</th>\n",
       "      <td>animal</td>\n",
       "      <td>0.800000</td>\n",
       "      <td>0.71000</td>\n",
       "      <td>0.752318</td>\n",
       "    </tr>\n",
       "    <tr>\n",
       "      <th>5</th>\n",
       "      <td>fiction</td>\n",
       "      <td>0.789050</td>\n",
       "      <td>0.61250</td>\n",
       "      <td>0.689655</td>\n",
       "    </tr>\n",
       "  </tbody>\n",
       "</table>\n",
       "</div>"
      ],
      "text/plain": [
       "                     class  precision_per_class  recall_per_class  \\\n",
       "0                   urgent             0.720730           0.83875   \n",
       "1  artificial intelligence             0.826019           0.65875   \n",
       "2                 computer             0.625819           0.83625   \n",
       "3                   travel             0.703971           0.73125   \n",
       "4                   animal             0.800000           0.71000   \n",
       "5                  fiction             0.789050           0.61250   \n",
       "\n",
       "   f1_per_class  \n",
       "0      0.775274  \n",
       "1      0.732962  \n",
       "2      0.715891  \n",
       "3      0.717351  \n",
       "4      0.752318  \n",
       "5      0.689655  "
      ]
     },
     "execution_count": 26,
     "metadata": {},
     "output_type": "execute_result"
    }
   ],
   "source": [
    "#Obteniendo metricas globales y por clase\n",
    "pd.DataFrame(compute_class_metrics(pred_labels, true_labels ))"
   ]
  },
  {
   "cell_type": "code",
   "execution_count": 27,
   "id": "bcbe43ac-4ae8-4288-8375-daeb78dcef50",
   "metadata": {},
   "outputs": [
    {
     "data": {
      "text/plain": [
       "{'accuracy': 0.73125,\n",
       " 'precision': 0.7442647944668324,\n",
       " 'recall': 0.73125,\n",
       " 'f1': 0.7305753463069088}"
      ]
     },
     "execution_count": 27,
     "metadata": {},
     "output_type": "execute_result"
    }
   ],
   "source": [
    "compute_global_metrics(pred_labels, true_labels )"
   ]
  },
  {
   "cell_type": "markdown",
   "id": "e36aca5a-1814-46b6-93a9-ede4abf69338",
   "metadata": {},
   "source": [
    "### Matriz de confusión"
   ]
  },
  {
   "cell_type": "code",
   "execution_count": 30,
   "id": "7c621683-d460-49a7-913a-9eccff1cc698",
   "metadata": {},
   "outputs": [
    {
     "data": {
      "image/png": "[encoded data removed]",
      "text/plain": [
       "<Figure size 800x600 with 2 Axes>"
      ]
     },
     "metadata": {},
     "output_type": "display_data"
    }
   ],
   "source": [
    "import matplotlib.pyplot as plt\n",
    "from sklearn.metrics import roc_curve, auc\n",
    "from sklearn.preprocessing import label_binarize\n",
    "import seaborn as sns \n",
    "# Calcular la matriz de confusión\n",
    "cm = confusion_matrix(true_labels, pred_labels)\n",
    "# Visualizar la matriz de confusión usando seaborn\n",
    "plt.figure(figsize=(8, 6))\n",
    "sns.heatmap(cm, annot=True, fmt=\"d\", cmap=\"Blues\", xticklabels=categories, yticklabels=categories)\n",
    "plt.title(\"Matriz de Confusión\")\n",
    "plt.xlabel(\"Predicciones\")\n",
    "plt.ylabel(\"Etiquetas verdaderas\")\n",
    "plt.show()"
   ]
  },
  {
   "cell_type": "markdown",
   "id": "de64639d-9af0-4ed9-a0c8-7ea16c149a85",
   "metadata": {},
   "source": [
    "### Curva ROC"
   ]
  },
  {
   "cell_type": "code",
   "execution_count": 31,
   "id": "5f998d42-2035-4484-b153-a5bc2db60faa",
   "metadata": {},
   "outputs": [
    {
     "data": {
      "image/png": "[encoded data removed]",
      "text/plain": [
       "<Figure size 800x600 with 1 Axes>"
      ]
     },
     "metadata": {},
     "output_type": "display_data"
    }
   ],
   "source": [
    "# Inicializar la figura para la curva ROC\n",
    "plt.figure(figsize=(8, 6))\n",
    "n_classes = len(categories)\n",
    "\n",
    "# Calcular la curva ROC para cada clase\n",
    "for i in range(n_classes):\n",
    "    if np.sum(true_labels == i) == 0:  # Si no hay ejemplos positivos para esta clase, la omitimos\n",
    "        print(f\"No hay ejemplos positivos para la clase {i}\")\n",
    "        continue\n",
    "\n",
    "    # Calcular la curva ROC para la clase i\n",
    "    fpr, tpr, thresholds = roc_curve(true_labels == i, pred_probas[:, i])  # Probabilidades de la clase i\n",
    "    roc_auc = auc(fpr, tpr)  # Calcular el AUC\n",
    "\n",
    "    # Graficar la curva ROC\n",
    "    plt.plot(fpr, tpr, lw=2, label=f'Clase {categories[i]} (AUC = {roc_auc:.2f})')\n",
    "\n",
    "# Graficar la línea diagonal (random classifier)\n",
    "plt.plot([0, 1], [0, 1], color='gray', lw=2, linestyle='--')\n",
    "\n",
    "# Añadir etiquetas y leyenda\n",
    "plt.xlim([0.0, 1.0])\n",
    "plt.ylim([0.0, 1.0])\n",
    "plt.xlabel('Tasa de Falsos Positivos (FPR)')\n",
    "plt.ylabel('Tasa de Verdaderos Positivos (TPR)')\n",
    "plt.title('Curvas ROC para Clasificación Multi-clase')\n",
    "plt.legend(loc=\"lower right\")\n",
    "\n",
    "# Mostrar la gráfica de las curvas ROC\n",
    "plt.show()"
   ]
  },
  {
   "cell_type": "code",
   "execution_count": null,
   "id": "05404cf9-1da6-4fcb-a206-6fb735b28d7a",
   "metadata": {},
   "outputs": [],
   "source": []
  }
 ],
 "metadata": {
  "kernelspec": {
   "display_name": "Python 3 (ipykernel)",
   "language": "python",
   "name": "python3"
  },
  "language_info": {
   "codemirror_mode": {
    "name": "ipython",
    "version": 3
   },
   "file_extension": ".py",
   "mimetype": "text/x-python",
   "name": "python",
   "nbconvert_exporter": "python",
   "pygments_lexer": "ipython3",
   "version": "3.9.19"
  }
 },
 "nbformat": 4,
 "nbformat_minor": 5
}
